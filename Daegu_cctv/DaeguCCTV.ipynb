{
 "cells": [
  {
   "cell_type": "code",
   "execution_count": 430,
   "metadata": {},
   "outputs": [],
   "source": [
    "import pandas as pd\n",
    "import numpy as np\n",
    "from pandas import DataFrame"
   ]
  },
  {
   "cell_type": "code",
   "execution_count": 431,
   "metadata": {},
   "outputs": [],
   "source": [
    "Daegu_Buk_gu_cctv = pd.read_csv('./Daegu_Buk_gu.csv', encoding='utf-8')\n",
    "Daegu_Dalseo_gu_cctv = pd.read_csv('./Daegu_Dalseo_gu.csv', encoding='utf-8')\n",
    "Daegu_Dalseong_gun_cctv = pd.read_csv('./Daegu_Dalseong_gun.csv', encoding='utf-8')\n",
    "Daegu_Dong_gu_cctv = pd.read_csv('./Daegu_Dong_gu.csv', encoding='utf-8')\n",
    "Daegu_Jung_gu_cctv = pd.read_csv('./Daegu_Jung_gu.csv', encoding='utf-8')\n",
    "Daegu_Nam_gu_cctv = pd.read_csv('./Daegu_Nam_gu.csv', encoding='utf-8')\n",
    "Daegu_Seo_gu_cctv = pd.read_csv('./Daegu_Seo_gu.csv', encoding='utf-8')\n",
    "Daegu_Suseong_gu_cctv = pd.read_csv('./Daegu_Suseong_gu.csv', encoding='utf-8')\n",
    "\n",
    "Daegu_cctv = pd.read_csv('./Daegu.csv', encoding='utf-8')\n",
    "Daegu_population = pd.read_csv('./Daegu_population.csv', encoding='utf-8')\n",
    "\n",
    "local_name_list = ['북구','달서구','달성군','동구','중구','남구','서구','수성구']\n",
    "\n",
    "cctv_list = [\n",
    "    Daegu_Buk_gu_cctv, Daegu_Dalseo_gu_cctv, Daegu_Dalseong_gun_cctv, \n",
    "    Daegu_Dong_gu_cctv, Daegu_Jung_gu_cctv, Daegu_Nam_gu_cctv,\n",
    "    Daegu_Seo_gu_cctv, Daegu_Suseong_gu_cctv\n",
    "            ]"
   ]
  },
  {
   "cell_type": "code",
   "execution_count": 432,
   "metadata": {},
   "outputs": [
    {
     "data": {
      "text/plain": [
       "[1617, 1409, 1048, 1294, 741, 708, 662, 1404]"
      ]
     },
     "execution_count": 432,
     "metadata": {},
     "output_type": "execute_result"
    }
   ],
   "source": [
    "cctv_num_list =[]\n",
    "for num in cctv_list:\n",
    "    cctv_num_list.append(num['카메라대수'].sum())\n",
    "cctv_num_list"
   ]
  },
  {
   "cell_type": "code",
   "execution_count": 433,
   "metadata": {},
   "outputs": [],
   "source": [
    "row_data = {\n",
    "    '지역': local_name_list,\n",
    "    '카메라대수': cctv_num_list       \n",
    "}\n",
    "local_cctv_num = pd.DataFrame(row_data, columns=['지역','카메라대수'])\n",
    "local_cctv_num = local_cctv_num.set_index('지역')"
   ]
  },
  {
   "cell_type": "code",
   "execution_count": 434,
   "metadata": {},
   "outputs": [
    {
     "data": {
      "text/plain": [
       "[32, 64, 20, 64, 41, 22, 28, 36]"
      ]
     },
     "execution_count": 434,
     "metadata": {},
     "output_type": "execute_result"
    }
   ],
   "source": [
    "list_daegu_cctv_Separation = []\n",
    "\n",
    "for local_name in local_name_list:\n",
    "    list_daegu_cctv_Separation.append(Daegu_cctv[Daegu_cctv['소재지지번주소'].str.find(' '+local_name) > 0]['카메라대수'].sum())\n",
    "list_daegu_cctv_Separation"
   ]
  },
  {
   "cell_type": "code",
   "execution_count": 435,
   "metadata": {},
   "outputs": [
    {
     "data": {
      "text/plain": [
       "array([1649, 1473, 1068, 1358,  782,  730,  690, 1440], dtype=int64)"
      ]
     },
     "execution_count": 435,
     "metadata": {},
     "output_type": "execute_result"
    }
   ],
   "source": [
    "cctv_num = local_cctv_num['카메라대수'].values + list_daegu_cctv_Separation\n",
    "cctv_num"
   ]
  },
  {
   "cell_type": "code",
   "execution_count": 436,
   "metadata": {},
   "outputs": [],
   "source": [
    "local_cctv_num['카메라대수'] = cctv_num"
   ]
  },
  {
   "cell_type": "code",
   "execution_count": 437,
   "metadata": {},
   "outputs": [],
   "source": [
    "# local_cctv_num\n",
    "# Daegu_population"
   ]
  },
  {
   "cell_type": "code",
   "execution_count": 438,
   "metadata": {},
   "outputs": [],
   "source": [
    "Daegu_population['행정구역']=Daegu_population['행정구역'].str.replace('세','')\n",
    "Daegu_population['행정구역']=Daegu_population['행정구역'].str.replace(' 이상','')"
   ]
  },
  {
   "cell_type": "code",
   "execution_count": 439,
   "metadata": {},
   "outputs": [],
   "source": [
    "Daegu_population = Daegu_population.applymap(lambda x:str(x).replace(',',''))\n",
    "Daegu_population = Daegu_population.applymap(lambda x:int(str(x)))"
   ]
  },
  {
   "cell_type": "code",
   "execution_count": 440,
   "metadata": {},
   "outputs": [
    {
     "data": {
      "text/plain": [
       "Index(['행정구역', '총계', '총계남', '총계여', '중구계', '중구남', '중구여', '동구계', '동구남', '동구여',\n",
       "       '서구계', '서구남', '서구여', '남구계', '남구남', '남구여', '북구계', '북구남', '북구여', '수성구계',\n",
       "       '수성구남', '수성구여', '달서구계', '달서구남', '달서구여', '달성군계', '달성군남', '달성군여'],\n",
       "      dtype='object')"
      ]
     },
     "execution_count": 440,
     "metadata": {},
     "output_type": "execute_result"
    }
   ],
   "source": [
    "Daegu_population.columns.str.replace(' ','')"
   ]
  },
  {
   "cell_type": "code",
   "execution_count": 441,
   "metadata": {},
   "outputs": [],
   "source": [
    "Daegu_population.columns = Daegu_population.columns.str.replace(' ','')"
   ]
  },
  {
   "cell_type": "code",
   "execution_count": 442,
   "metadata": {},
   "outputs": [
    {
     "data": {
      "text/html": [
       "<div>\n",
       "<style scoped>\n",
       "    .dataframe tbody tr th:only-of-type {\n",
       "        vertical-align: middle;\n",
       "    }\n",
       "\n",
       "    .dataframe tbody tr th {\n",
       "        vertical-align: top;\n",
       "    }\n",
       "\n",
       "    .dataframe thead th {\n",
       "        text-align: right;\n",
       "    }\n",
       "</style>\n",
       "<table border=\"1\" class=\"dataframe\">\n",
       "  <thead>\n",
       "    <tr style=\"text-align: right;\">\n",
       "      <th></th>\n",
       "      <th>행정구역</th>\n",
       "      <th>총계</th>\n",
       "      <th>총계남</th>\n",
       "      <th>총계여</th>\n",
       "      <th>중구계</th>\n",
       "      <th>중구남</th>\n",
       "      <th>중구여</th>\n",
       "      <th>동구계</th>\n",
       "      <th>동구남</th>\n",
       "      <th>동구여</th>\n",
       "      <th>...</th>\n",
       "      <th>북구여</th>\n",
       "      <th>수성구계</th>\n",
       "      <th>수성구남</th>\n",
       "      <th>수성구여</th>\n",
       "      <th>달서구계</th>\n",
       "      <th>달서구남</th>\n",
       "      <th>달서구여</th>\n",
       "      <th>달성군계</th>\n",
       "      <th>달성군남</th>\n",
       "      <th>달성군여</th>\n",
       "    </tr>\n",
       "  </thead>\n",
       "  <tbody>\n",
       "    <tr>\n",
       "      <th>0</th>\n",
       "      <td>0</td>\n",
       "      <td>13085</td>\n",
       "      <td>6754</td>\n",
       "      <td>6331</td>\n",
       "      <td>456</td>\n",
       "      <td>228</td>\n",
       "      <td>228</td>\n",
       "      <td>2019</td>\n",
       "      <td>1021</td>\n",
       "      <td>998</td>\n",
       "      <td>...</td>\n",
       "      <td>1221</td>\n",
       "      <td>1565</td>\n",
       "      <td>839</td>\n",
       "      <td>726</td>\n",
       "      <td>2771</td>\n",
       "      <td>1413</td>\n",
       "      <td>1358</td>\n",
       "      <td>2660</td>\n",
       "      <td>1358</td>\n",
       "      <td>1302</td>\n",
       "    </tr>\n",
       "    <tr>\n",
       "      <th>1</th>\n",
       "      <td>1</td>\n",
       "      <td>15384</td>\n",
       "      <td>7854</td>\n",
       "      <td>7530</td>\n",
       "      <td>524</td>\n",
       "      <td>273</td>\n",
       "      <td>251</td>\n",
       "      <td>2401</td>\n",
       "      <td>1235</td>\n",
       "      <td>1166</td>\n",
       "      <td>...</td>\n",
       "      <td>1434</td>\n",
       "      <td>1964</td>\n",
       "      <td>986</td>\n",
       "      <td>978</td>\n",
       "      <td>3370</td>\n",
       "      <td>1780</td>\n",
       "      <td>1590</td>\n",
       "      <td>2885</td>\n",
       "      <td>1429</td>\n",
       "      <td>1456</td>\n",
       "    </tr>\n",
       "    <tr>\n",
       "      <th>2</th>\n",
       "      <td>2</td>\n",
       "      <td>17580</td>\n",
       "      <td>9026</td>\n",
       "      <td>8554</td>\n",
       "      <td>588</td>\n",
       "      <td>293</td>\n",
       "      <td>295</td>\n",
       "      <td>2718</td>\n",
       "      <td>1429</td>\n",
       "      <td>1289</td>\n",
       "      <td>...</td>\n",
       "      <td>1682</td>\n",
       "      <td>2387</td>\n",
       "      <td>1217</td>\n",
       "      <td>1170</td>\n",
       "      <td>3836</td>\n",
       "      <td>2028</td>\n",
       "      <td>1808</td>\n",
       "      <td>3138</td>\n",
       "      <td>1579</td>\n",
       "      <td>1559</td>\n",
       "    </tr>\n",
       "    <tr>\n",
       "      <th>3</th>\n",
       "      <td>3</td>\n",
       "      <td>19659</td>\n",
       "      <td>10028</td>\n",
       "      <td>9631</td>\n",
       "      <td>625</td>\n",
       "      <td>325</td>\n",
       "      <td>300</td>\n",
       "      <td>2947</td>\n",
       "      <td>1442</td>\n",
       "      <td>1505</td>\n",
       "      <td>...</td>\n",
       "      <td>1848</td>\n",
       "      <td>2839</td>\n",
       "      <td>1501</td>\n",
       "      <td>1338</td>\n",
       "      <td>4480</td>\n",
       "      <td>2313</td>\n",
       "      <td>2167</td>\n",
       "      <td>3362</td>\n",
       "      <td>1701</td>\n",
       "      <td>1661</td>\n",
       "    </tr>\n",
       "    <tr>\n",
       "      <th>4</th>\n",
       "      <td>4</td>\n",
       "      <td>20230</td>\n",
       "      <td>10294</td>\n",
       "      <td>9936</td>\n",
       "      <td>628</td>\n",
       "      <td>297</td>\n",
       "      <td>331</td>\n",
       "      <td>3103</td>\n",
       "      <td>1620</td>\n",
       "      <td>1483</td>\n",
       "      <td>...</td>\n",
       "      <td>1858</td>\n",
       "      <td>3069</td>\n",
       "      <td>1536</td>\n",
       "      <td>1533</td>\n",
       "      <td>4710</td>\n",
       "      <td>2388</td>\n",
       "      <td>2322</td>\n",
       "      <td>3260</td>\n",
       "      <td>1641</td>\n",
       "      <td>1619</td>\n",
       "    </tr>\n",
       "  </tbody>\n",
       "</table>\n",
       "<p>5 rows × 28 columns</p>\n",
       "</div>"
      ],
      "text/plain": [
       "   행정구역     총계    총계남   총계여  중구계  중구남  중구여   동구계   동구남   동구여  ...   북구여  수성구계  \\\n",
       "0     0  13085   6754  6331  456  228  228  2019  1021   998  ...  1221  1565   \n",
       "1     1  15384   7854  7530  524  273  251  2401  1235  1166  ...  1434  1964   \n",
       "2     2  17580   9026  8554  588  293  295  2718  1429  1289  ...  1682  2387   \n",
       "3     3  19659  10028  9631  625  325  300  2947  1442  1505  ...  1848  2839   \n",
       "4     4  20230  10294  9936  628  297  331  3103  1620  1483  ...  1858  3069   \n",
       "\n",
       "   수성구남  수성구여  달서구계  달서구남  달서구여  달성군계  달성군남  달성군여  \n",
       "0   839   726  2771  1413  1358  2660  1358  1302  \n",
       "1   986   978  3370  1780  1590  2885  1429  1456  \n",
       "2  1217  1170  3836  2028  1808  3138  1579  1559  \n",
       "3  1501  1338  4480  2313  2167  3362  1701  1661  \n",
       "4  1536  1533  4710  2388  2322  3260  1641  1619  \n",
       "\n",
       "[5 rows x 28 columns]"
      ]
     },
     "execution_count": 442,
     "metadata": {},
     "output_type": "execute_result"
    }
   ],
   "source": [
    "Daegu_population.head()"
   ]
  },
  {
   "cell_type": "code",
   "execution_count": 443,
   "metadata": {},
   "outputs": [],
   "source": [
    "# local_cctv_num\n",
    "people_num = Daegu_population.sum()\n",
    "people_num\n",
    "man = []\n",
    "woman = []\n",
    "people = []\n",
    "\n",
    "for split in local_name_list:\n",
    "    for i,local in enumerate(people_num.index):\n",
    "        if local.find(split)==0:\n",
    "            if local[-1]=='계':\n",
    "                people.append(people_num[i])\n",
    "            elif local[-1]=='남':\n",
    "                man.append(people_num[i])\n",
    "            elif local[-1]=='여':\n",
    "                woman.append(people_num[i])"
   ]
  },
  {
   "cell_type": "code",
   "execution_count": 444,
   "metadata": {},
   "outputs": [],
   "source": [
    "# local_cctv_num.columns\n",
    "data = {\n",
    "    '지역':local_name_list,\n",
    "    '총인원': people,\n",
    "    '남': man,\n",
    "    '여':woman\n",
    "}\n",
    "daegu_people = pd.DataFrame(data, columns=['지역','총인원','남','여'])"
   ]
  },
  {
   "cell_type": "code",
   "execution_count": 445,
   "metadata": {},
   "outputs": [
    {
     "data": {
      "text/html": [
       "<div>\n",
       "<style scoped>\n",
       "    .dataframe tbody tr th:only-of-type {\n",
       "        vertical-align: middle;\n",
       "    }\n",
       "\n",
       "    .dataframe tbody tr th {\n",
       "        vertical-align: top;\n",
       "    }\n",
       "\n",
       "    .dataframe thead th {\n",
       "        text-align: right;\n",
       "    }\n",
       "</style>\n",
       "<table border=\"1\" class=\"dataframe\">\n",
       "  <thead>\n",
       "    <tr style=\"text-align: right;\">\n",
       "      <th></th>\n",
       "      <th>총인원</th>\n",
       "      <th>남</th>\n",
       "      <th>여</th>\n",
       "    </tr>\n",
       "    <tr>\n",
       "      <th>지역</th>\n",
       "      <th></th>\n",
       "      <th></th>\n",
       "      <th></th>\n",
       "    </tr>\n",
       "  </thead>\n",
       "  <tbody>\n",
       "    <tr>\n",
       "      <th>북구</th>\n",
       "      <td>439093</td>\n",
       "      <td>219028</td>\n",
       "      <td>220065</td>\n",
       "    </tr>\n",
       "    <tr>\n",
       "      <th>달서구</th>\n",
       "      <td>571303</td>\n",
       "      <td>282756</td>\n",
       "      <td>288547</td>\n",
       "    </tr>\n",
       "    <tr>\n",
       "      <th>달성군</th>\n",
       "      <td>254239</td>\n",
       "      <td>129233</td>\n",
       "      <td>125006</td>\n",
       "    </tr>\n",
       "    <tr>\n",
       "      <th>동구</th>\n",
       "      <td>348825</td>\n",
       "      <td>172401</td>\n",
       "      <td>176424</td>\n",
       "    </tr>\n",
       "    <tr>\n",
       "      <th>중구</th>\n",
       "      <td>77935</td>\n",
       "      <td>37661</td>\n",
       "      <td>40274</td>\n",
       "    </tr>\n",
       "    <tr>\n",
       "      <th>남구</th>\n",
       "      <td>148682</td>\n",
       "      <td>71704</td>\n",
       "      <td>76978</td>\n",
       "    </tr>\n",
       "    <tr>\n",
       "      <th>서구</th>\n",
       "      <td>179920</td>\n",
       "      <td>90419</td>\n",
       "      <td>89501</td>\n",
       "    </tr>\n",
       "    <tr>\n",
       "      <th>수성구</th>\n",
       "      <td>430481</td>\n",
       "      <td>209248</td>\n",
       "      <td>221233</td>\n",
       "    </tr>\n",
       "  </tbody>\n",
       "</table>\n",
       "</div>"
      ],
      "text/plain": [
       "        총인원       남       여\n",
       "지역                         \n",
       "북구   439093  219028  220065\n",
       "달서구  571303  282756  288547\n",
       "달성군  254239  129233  125006\n",
       "동구   348825  172401  176424\n",
       "중구    77935   37661   40274\n",
       "남구   148682   71704   76978\n",
       "서구   179920   90419   89501\n",
       "수성구  430481  209248  221233"
      ]
     },
     "execution_count": 445,
     "metadata": {},
     "output_type": "execute_result"
    }
   ],
   "source": [
    "daegu_people = daegu_people.set_index('지역')\n",
    "daegu_people"
   ]
  },
  {
   "cell_type": "code",
   "execution_count": 446,
   "metadata": {},
   "outputs": [],
   "source": [
    "local_cctv_num  #지역별 카메라대수 위에서 구한 값\n",
    "data_result = pd.merge( local_cctv_num, daegu_people, on='지역' )"
   ]
  },
  {
   "cell_type": "code",
   "execution_count": 447,
   "metadata": {},
   "outputs": [
    {
     "data": {
      "text/html": [
       "<div>\n",
       "<style scoped>\n",
       "    .dataframe tbody tr th:only-of-type {\n",
       "        vertical-align: middle;\n",
       "    }\n",
       "\n",
       "    .dataframe tbody tr th {\n",
       "        vertical-align: top;\n",
       "    }\n",
       "\n",
       "    .dataframe thead th {\n",
       "        text-align: right;\n",
       "    }\n",
       "</style>\n",
       "<table border=\"1\" class=\"dataframe\">\n",
       "  <thead>\n",
       "    <tr style=\"text-align: right;\">\n",
       "      <th></th>\n",
       "      <th>카메라대수</th>\n",
       "      <th>총인원</th>\n",
       "      <th>남</th>\n",
       "      <th>여</th>\n",
       "    </tr>\n",
       "    <tr>\n",
       "      <th>지역</th>\n",
       "      <th></th>\n",
       "      <th></th>\n",
       "      <th></th>\n",
       "      <th></th>\n",
       "    </tr>\n",
       "  </thead>\n",
       "  <tbody>\n",
       "    <tr>\n",
       "      <th>북구</th>\n",
       "      <td>1649</td>\n",
       "      <td>439093</td>\n",
       "      <td>219028</td>\n",
       "      <td>220065</td>\n",
       "    </tr>\n",
       "    <tr>\n",
       "      <th>달서구</th>\n",
       "      <td>1473</td>\n",
       "      <td>571303</td>\n",
       "      <td>282756</td>\n",
       "      <td>288547</td>\n",
       "    </tr>\n",
       "    <tr>\n",
       "      <th>달성군</th>\n",
       "      <td>1068</td>\n",
       "      <td>254239</td>\n",
       "      <td>129233</td>\n",
       "      <td>125006</td>\n",
       "    </tr>\n",
       "    <tr>\n",
       "      <th>동구</th>\n",
       "      <td>1358</td>\n",
       "      <td>348825</td>\n",
       "      <td>172401</td>\n",
       "      <td>176424</td>\n",
       "    </tr>\n",
       "    <tr>\n",
       "      <th>중구</th>\n",
       "      <td>782</td>\n",
       "      <td>77935</td>\n",
       "      <td>37661</td>\n",
       "      <td>40274</td>\n",
       "    </tr>\n",
       "    <tr>\n",
       "      <th>남구</th>\n",
       "      <td>730</td>\n",
       "      <td>148682</td>\n",
       "      <td>71704</td>\n",
       "      <td>76978</td>\n",
       "    </tr>\n",
       "    <tr>\n",
       "      <th>서구</th>\n",
       "      <td>690</td>\n",
       "      <td>179920</td>\n",
       "      <td>90419</td>\n",
       "      <td>89501</td>\n",
       "    </tr>\n",
       "    <tr>\n",
       "      <th>수성구</th>\n",
       "      <td>1440</td>\n",
       "      <td>430481</td>\n",
       "      <td>209248</td>\n",
       "      <td>221233</td>\n",
       "    </tr>\n",
       "  </tbody>\n",
       "</table>\n",
       "</div>"
      ],
      "text/plain": [
       "     카메라대수     총인원       남       여\n",
       "지역                                \n",
       "북구    1649  439093  219028  220065\n",
       "달서구   1473  571303  282756  288547\n",
       "달성군   1068  254239  129233  125006\n",
       "동구    1358  348825  172401  176424\n",
       "중구     782   77935   37661   40274\n",
       "남구     730  148682   71704   76978\n",
       "서구     690  179920   90419   89501\n",
       "수성구   1440  430481  209248  221233"
      ]
     },
     "execution_count": 447,
     "metadata": {},
     "output_type": "execute_result"
    }
   ],
   "source": [
    "data_result"
   ]
  },
  {
   "cell_type": "code",
   "execution_count": 448,
   "metadata": {},
   "outputs": [
    {
     "data": {
      "text/plain": [
       "array([[1.        , 0.90869957],\n",
       "       [0.90869957, 1.        ]])"
      ]
     },
     "execution_count": 448,
     "metadata": {},
     "output_type": "execute_result"
    }
   ],
   "source": [
    "np.corrcoef( data_result['카메라대수'], data_result['총인원'] )"
   ]
  },
  {
   "cell_type": "code",
   "execution_count": 449,
   "metadata": {},
   "outputs": [
    {
     "data": {
      "text/html": [
       "<div>\n",
       "<style scoped>\n",
       "    .dataframe tbody tr th:only-of-type {\n",
       "        vertical-align: middle;\n",
       "    }\n",
       "\n",
       "    .dataframe tbody tr th {\n",
       "        vertical-align: top;\n",
       "    }\n",
       "\n",
       "    .dataframe thead th {\n",
       "        text-align: right;\n",
       "    }\n",
       "</style>\n",
       "<table border=\"1\" class=\"dataframe\">\n",
       "  <thead>\n",
       "    <tr style=\"text-align: right;\">\n",
       "      <th></th>\n",
       "      <th>카메라대수</th>\n",
       "      <th>총인원</th>\n",
       "      <th>남</th>\n",
       "      <th>여</th>\n",
       "    </tr>\n",
       "    <tr>\n",
       "      <th>지역</th>\n",
       "      <th></th>\n",
       "      <th></th>\n",
       "      <th></th>\n",
       "      <th></th>\n",
       "    </tr>\n",
       "  </thead>\n",
       "  <tbody>\n",
       "    <tr>\n",
       "      <th>북구</th>\n",
       "      <td>1649</td>\n",
       "      <td>439093</td>\n",
       "      <td>219028</td>\n",
       "      <td>220065</td>\n",
       "    </tr>\n",
       "    <tr>\n",
       "      <th>달서구</th>\n",
       "      <td>1473</td>\n",
       "      <td>571303</td>\n",
       "      <td>282756</td>\n",
       "      <td>288547</td>\n",
       "    </tr>\n",
       "    <tr>\n",
       "      <th>수성구</th>\n",
       "      <td>1440</td>\n",
       "      <td>430481</td>\n",
       "      <td>209248</td>\n",
       "      <td>221233</td>\n",
       "    </tr>\n",
       "    <tr>\n",
       "      <th>동구</th>\n",
       "      <td>1358</td>\n",
       "      <td>348825</td>\n",
       "      <td>172401</td>\n",
       "      <td>176424</td>\n",
       "    </tr>\n",
       "    <tr>\n",
       "      <th>달성군</th>\n",
       "      <td>1068</td>\n",
       "      <td>254239</td>\n",
       "      <td>129233</td>\n",
       "      <td>125006</td>\n",
       "    </tr>\n",
       "    <tr>\n",
       "      <th>중구</th>\n",
       "      <td>782</td>\n",
       "      <td>77935</td>\n",
       "      <td>37661</td>\n",
       "      <td>40274</td>\n",
       "    </tr>\n",
       "    <tr>\n",
       "      <th>남구</th>\n",
       "      <td>730</td>\n",
       "      <td>148682</td>\n",
       "      <td>71704</td>\n",
       "      <td>76978</td>\n",
       "    </tr>\n",
       "    <tr>\n",
       "      <th>서구</th>\n",
       "      <td>690</td>\n",
       "      <td>179920</td>\n",
       "      <td>90419</td>\n",
       "      <td>89501</td>\n",
       "    </tr>\n",
       "  </tbody>\n",
       "</table>\n",
       "</div>"
      ],
      "text/plain": [
       "     카메라대수     총인원       남       여\n",
       "지역                                \n",
       "북구    1649  439093  219028  220065\n",
       "달서구   1473  571303  282756  288547\n",
       "수성구   1440  430481  209248  221233\n",
       "동구    1358  348825  172401  176424\n",
       "달성군   1068  254239  129233  125006\n",
       "중구     782   77935   37661   40274\n",
       "남구     730  148682   71704   76978\n",
       "서구     690  179920   90419   89501"
      ]
     },
     "execution_count": 449,
     "metadata": {},
     "output_type": "execute_result"
    }
   ],
   "source": [
    "data_result.sort_values(by='카메라대수', ascending=False)"
   ]
  },
  {
   "cell_type": "code",
   "execution_count": 454,
   "metadata": {},
   "outputs": [],
   "source": [
    "import matplotlib.pyplot as plt\n",
    "%matplotlib inline\n",
    "import platform\n",
    "from matplotlib import font_manager, rc\n",
    "\n",
    "plt.rcParams['axes.unicode_minus'] = False\n",
    "if platform.system() == 'Darwin': # 맥\n",
    "    rc('font', family='AppleGothic')\n",
    "elif platform.system() == 'Windows': # 윈도우\n",
    "    font_path = 'c:/Windows/Fonts/malgun.ttf'\n",
    "    font_name = font_manager.FontProperties(fname=font_path).get_name()\n",
    "    rc('font', family=font_name)\n",
    "else:\n",
    "    print('알수없는 시스템 미적용')"
   ]
  },
  {
   "cell_type": "code",
   "execution_count": 456,
   "metadata": {},
   "outputs": [
    {
     "data": {
      "image/png": "[encoded data removed]",
      "text/plain": [
       "<Figure size 720x432 with 1 Axes>"
      ]
     },
     "metadata": {
      "needs_background": "light"
     },
     "output_type": "display_data"
    }
   ],
   "source": [
    "plt.figure(figsize=(10,6))\n",
    "# 차트 모양 : barh : bar + h(수평선 차트 드로잉)\n",
    "data_result['총인원'].plot(kind='barh', grid=True)\n",
    "plt.show()"
   ]
  },
  {
   "cell_type": "code",
   "execution_count": 452,
   "metadata": {},
   "outputs": [
    {
     "data": {
      "text/plain": [
       "<matplotlib.axes._subplots.AxesSubplot at 0x193a03189e8>"
      ]
     },
     "execution_count": 452,
     "metadata": {},
     "output_type": "execute_result"
    },
    {
     "data": {
      "image/png": "[encoded data removed]",
      "text/plain": [
       "<Figure size 432x288 with 1 Axes>"
      ]
     },
     "metadata": {
      "needs_background": "light"
     },
     "output_type": "display_data"
    }
   ],
   "source": [
    "data_result['총인원'].plot(kind='barh', grid=True)"
   ]
  }
 ],
 "metadata": {
  "kernelspec": {
   "display_name": "Python 3",
   "language": "python",
   "name": "python3"
  },
  "language_info": {
   "codemirror_mode": {
    "name": "ipython",
    "version": 3
   },
   "file_extension": ".py",
   "mimetype": "text/x-python",
   "name": "python",
   "nbconvert_exporter": "python",
   "pygments_lexer": "ipython3",
   "version": "3.7.3"
  }
 },
 "nbformat": 4,
 "nbformat_minor": 4
}
