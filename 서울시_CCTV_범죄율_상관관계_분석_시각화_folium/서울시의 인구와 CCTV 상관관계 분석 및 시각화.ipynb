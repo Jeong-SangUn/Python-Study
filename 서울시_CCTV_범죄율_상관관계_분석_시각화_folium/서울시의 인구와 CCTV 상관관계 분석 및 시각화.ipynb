{
 "cells": [
  {
   "cell_type": "markdown",
   "metadata": {},
   "source": [
    "## 서울시의 구별 인구현황 및 CCTV 현황 분석\n",
    "- 적절한 설치 비율을 통계를 통해 시각화\n",
    "- 평균이동선을 구현\n",
    "- pandas 사용 (기본 사용법)\n",
    "- matplotlib 사용 (기본 차트 사용법)\n"
   ]
  },
  {
   "cell_type": "markdown",
   "metadata": {},
   "source": [
    "## 데이터 수집 및 로드"
   ]
  },
  {
   "cell_type": "code",
   "execution_count": 38,
   "metadata": {},
   "outputs": [],
   "source": [
    "import pandas as pd\n",
    "import numpy as np"
   ]
  },
  {
   "cell_type": "code",
   "execution_count": 39,
   "metadata": {},
   "outputs": [],
   "source": [
    "# 데이타로드 cctv 현황\n",
    "# 윈도우 경우 파일이름이 한글이면 읽지 못하는 경우가 있다.\n",
    "# 혹은 문서 인코딩이 틀려서 못읽는 경우도 있다\n",
    "seoul_cctv = pd.read_csv('./seoul_cctv.csv', encoding='utf-8')"
   ]
  },
  {
   "cell_type": "code",
   "execution_count": 40,
   "metadata": {},
   "outputs": [
    {
     "data": {
      "text/html": [
       "<div>\n",
       "<style scoped>\n",
       "    .dataframe tbody tr th:only-of-type {\n",
       "        vertical-align: middle;\n",
       "    }\n",
       "\n",
       "    .dataframe tbody tr th {\n",
       "        vertical-align: top;\n",
       "    }\n",
       "\n",
       "    .dataframe thead th {\n",
       "        text-align: right;\n",
       "    }\n",
       "</style>\n",
       "<table border=\"1\" class=\"dataframe\">\n",
       "  <thead>\n",
       "    <tr style=\"text-align: right;\">\n",
       "      <th></th>\n",
       "      <th>기관명</th>\n",
       "      <th>소계</th>\n",
       "      <th>2013년도 이전</th>\n",
       "      <th>2014년</th>\n",
       "      <th>2015년</th>\n",
       "      <th>2016년</th>\n",
       "    </tr>\n",
       "  </thead>\n",
       "  <tbody>\n",
       "    <tr>\n",
       "      <th>0</th>\n",
       "      <td>강남구</td>\n",
       "      <td>3238</td>\n",
       "      <td>1292</td>\n",
       "      <td>430</td>\n",
       "      <td>584</td>\n",
       "      <td>932</td>\n",
       "    </tr>\n",
       "    <tr>\n",
       "      <th>1</th>\n",
       "      <td>강동구</td>\n",
       "      <td>1010</td>\n",
       "      <td>379</td>\n",
       "      <td>99</td>\n",
       "      <td>155</td>\n",
       "      <td>377</td>\n",
       "    </tr>\n",
       "    <tr>\n",
       "      <th>2</th>\n",
       "      <td>강북구</td>\n",
       "      <td>831</td>\n",
       "      <td>369</td>\n",
       "      <td>120</td>\n",
       "      <td>138</td>\n",
       "      <td>204</td>\n",
       "    </tr>\n",
       "    <tr>\n",
       "      <th>3</th>\n",
       "      <td>강서구</td>\n",
       "      <td>911</td>\n",
       "      <td>388</td>\n",
       "      <td>258</td>\n",
       "      <td>184</td>\n",
       "      <td>81</td>\n",
       "    </tr>\n",
       "    <tr>\n",
       "      <th>4</th>\n",
       "      <td>관악구</td>\n",
       "      <td>2109</td>\n",
       "      <td>846</td>\n",
       "      <td>260</td>\n",
       "      <td>390</td>\n",
       "      <td>613</td>\n",
       "    </tr>\n",
       "  </tbody>\n",
       "</table>\n",
       "</div>"
      ],
      "text/plain": [
       "   기관명    소계  2013년도 이전  2014년  2015년  2016년\n",
       "0  강남구  3238       1292    430    584    932\n",
       "1  강동구  1010        379     99    155    377\n",
       "2  강북구   831        369    120    138    204\n",
       "3  강서구   911        388    258    184     81\n",
       "4  관악구  2109        846    260    390    613"
      ]
     },
     "execution_count": 40,
     "metadata": {},
     "output_type": "execute_result"
    }
   ],
   "source": [
    "# 데이타가 로드 되었으면 시작값과 끝값을 확인\n",
    "# 시작부터데이타 5개 로드\n",
    "seoul_cctv.head()"
   ]
  },
  {
   "cell_type": "code",
   "execution_count": 41,
   "metadata": {},
   "outputs": [
    {
     "data": {
      "text/html": [
       "<div>\n",
       "<style scoped>\n",
       "    .dataframe tbody tr th:only-of-type {\n",
       "        vertical-align: middle;\n",
       "    }\n",
       "\n",
       "    .dataframe tbody tr th {\n",
       "        vertical-align: top;\n",
       "    }\n",
       "\n",
       "    .dataframe thead th {\n",
       "        text-align: right;\n",
       "    }\n",
       "</style>\n",
       "<table border=\"1\" class=\"dataframe\">\n",
       "  <thead>\n",
       "    <tr style=\"text-align: right;\">\n",
       "      <th></th>\n",
       "      <th>기관명</th>\n",
       "      <th>소계</th>\n",
       "      <th>2013년도 이전</th>\n",
       "      <th>2014년</th>\n",
       "      <th>2015년</th>\n",
       "      <th>2016년</th>\n",
       "    </tr>\n",
       "  </thead>\n",
       "  <tbody>\n",
       "    <tr>\n",
       "      <th>20</th>\n",
       "      <td>용산구</td>\n",
       "      <td>2096</td>\n",
       "      <td>1368</td>\n",
       "      <td>218</td>\n",
       "      <td>112</td>\n",
       "      <td>398</td>\n",
       "    </tr>\n",
       "    <tr>\n",
       "      <th>21</th>\n",
       "      <td>은평구</td>\n",
       "      <td>2108</td>\n",
       "      <td>1138</td>\n",
       "      <td>224</td>\n",
       "      <td>278</td>\n",
       "      <td>468</td>\n",
       "    </tr>\n",
       "    <tr>\n",
       "      <th>22</th>\n",
       "      <td>종로구</td>\n",
       "      <td>1619</td>\n",
       "      <td>464</td>\n",
       "      <td>314</td>\n",
       "      <td>211</td>\n",
       "      <td>630</td>\n",
       "    </tr>\n",
       "    <tr>\n",
       "      <th>23</th>\n",
       "      <td>중구</td>\n",
       "      <td>1023</td>\n",
       "      <td>413</td>\n",
       "      <td>190</td>\n",
       "      <td>72</td>\n",
       "      <td>348</td>\n",
       "    </tr>\n",
       "    <tr>\n",
       "      <th>24</th>\n",
       "      <td>중랑구</td>\n",
       "      <td>916</td>\n",
       "      <td>509</td>\n",
       "      <td>121</td>\n",
       "      <td>177</td>\n",
       "      <td>109</td>\n",
       "    </tr>\n",
       "  </tbody>\n",
       "</table>\n",
       "</div>"
      ],
      "text/plain": [
       "    기관명    소계  2013년도 이전  2014년  2015년  2016년\n",
       "20  용산구  2096       1368    218    112    398\n",
       "21  은평구  2108       1138    224    278    468\n",
       "22  종로구  1619        464    314    211    630\n",
       "23   중구  1023        413    190     72    348\n",
       "24  중랑구   916        509    121    177    109"
      ]
     },
     "execution_count": 41,
     "metadata": {},
     "output_type": "execute_result"
    }
   ],
   "source": [
    "seoul_cctv.tail()"
   ]
  },
  {
   "cell_type": "code",
   "execution_count": 42,
   "metadata": {},
   "outputs": [
    {
     "data": {
      "text/html": [
       "<div>\n",
       "<style scoped>\n",
       "    .dataframe tbody tr th:only-of-type {\n",
       "        vertical-align: middle;\n",
       "    }\n",
       "\n",
       "    .dataframe tbody tr th {\n",
       "        vertical-align: top;\n",
       "    }\n",
       "\n",
       "    .dataframe thead th {\n",
       "        text-align: right;\n",
       "    }\n",
       "</style>\n",
       "<table border=\"1\" class=\"dataframe\">\n",
       "  <thead>\n",
       "    <tr style=\"text-align: right;\">\n",
       "      <th></th>\n",
       "      <th>기관명</th>\n",
       "      <th>소계</th>\n",
       "      <th>2013년도 이전</th>\n",
       "      <th>2014년</th>\n",
       "      <th>2015년</th>\n",
       "      <th>2016년</th>\n",
       "    </tr>\n",
       "  </thead>\n",
       "  <tbody>\n",
       "    <tr>\n",
       "      <th>20</th>\n",
       "      <td>용산구</td>\n",
       "      <td>2096</td>\n",
       "      <td>1368</td>\n",
       "      <td>218</td>\n",
       "      <td>112</td>\n",
       "      <td>398</td>\n",
       "    </tr>\n",
       "    <tr>\n",
       "      <th>21</th>\n",
       "      <td>은평구</td>\n",
       "      <td>2108</td>\n",
       "      <td>1138</td>\n",
       "      <td>224</td>\n",
       "      <td>278</td>\n",
       "      <td>468</td>\n",
       "    </tr>\n",
       "    <tr>\n",
       "      <th>22</th>\n",
       "      <td>종로구</td>\n",
       "      <td>1619</td>\n",
       "      <td>464</td>\n",
       "      <td>314</td>\n",
       "      <td>211</td>\n",
       "      <td>630</td>\n",
       "    </tr>\n",
       "    <tr>\n",
       "      <th>23</th>\n",
       "      <td>중구</td>\n",
       "      <td>1023</td>\n",
       "      <td>413</td>\n",
       "      <td>190</td>\n",
       "      <td>72</td>\n",
       "      <td>348</td>\n",
       "    </tr>\n",
       "    <tr>\n",
       "      <th>24</th>\n",
       "      <td>중랑구</td>\n",
       "      <td>916</td>\n",
       "      <td>509</td>\n",
       "      <td>121</td>\n",
       "      <td>177</td>\n",
       "      <td>109</td>\n",
       "    </tr>\n",
       "  </tbody>\n",
       "</table>\n",
       "</div>"
      ],
      "text/plain": [
       "    기관명    소계  2013년도 이전  2014년  2015년  2016년\n",
       "20  용산구  2096       1368    218    112    398\n",
       "21  은평구  2108       1138    224    278    468\n",
       "22  종로구  1619        464    314    211    630\n",
       "23   중구  1023        413    190     72    348\n",
       "24  중랑구   916        509    121    177    109"
      ]
     },
     "execution_count": 42,
     "metadata": {},
     "output_type": "execute_result"
    }
   ],
   "source": [
    "# 마지막에서데이타 5개 로드\n",
    "seoul_cctv.tail()"
   ]
  },
  {
   "cell_type": "code",
   "execution_count": 43,
   "metadata": {},
   "outputs": [
    {
     "data": {
      "text/plain": [
       "Index(['기관명', '소계', '2013년도 이전', '2014년', '2015년', '2016년'], dtype='object')"
      ]
     },
     "execution_count": 43,
     "metadata": {},
     "output_type": "execute_result"
    }
   ],
   "source": [
    "# 컬럼 확인\n",
    "seoul_cctv.columns"
   ]
  },
  {
   "cell_type": "code",
   "execution_count": 44,
   "metadata": {},
   "outputs": [
    {
     "data": {
      "text/plain": [
       "'2013년도 이전'"
      ]
     },
     "execution_count": 44,
     "metadata": {},
     "output_type": "execute_result"
    }
   ],
   "source": [
    "# 틀정 컬럼 확인 : '2013년도 이전' 컬럼명 획득\n",
    "seoul_cctv.columns[2]"
   ]
  },
  {
   "cell_type": "code",
   "execution_count": 45,
   "metadata": {
    "scrolled": true
   },
   "outputs": [
    {
     "data": {
      "text/plain": [
       "RangeIndex(start=0, stop=25, step=1)"
      ]
     },
     "execution_count": 45,
     "metadata": {},
     "output_type": "execute_result"
    }
   ],
   "source": [
    "# 인텍스 확인\n",
    "seoul_cctv.index"
   ]
  },
  {
   "cell_type": "code",
   "execution_count": 46,
   "metadata": {},
   "outputs": [
    {
     "data": {
      "text/plain": [
       "1"
      ]
     },
     "execution_count": 46,
     "metadata": {},
     "output_type": "execute_result"
    }
   ],
   "source": [
    "# 특정 인덱스\n",
    "seoul_cctv.index[1]"
   ]
  },
  {
   "cell_type": "code",
   "execution_count": 47,
   "metadata": {},
   "outputs": [],
   "source": [
    "# 컬럼명 (기간명) 변경하기\n",
    "dic = {seoul_cctv.columns[0]: '자치구'}\n",
    "# inplace=True => 원본에 적용 시키는 옵션\n",
    "seoul_cctv.rename(columns = dic, inplace=True)"
   ]
  },
  {
   "cell_type": "code",
   "execution_count": 48,
   "metadata": {},
   "outputs": [
    {
     "data": {
      "text/html": [
       "<div>\n",
       "<style scoped>\n",
       "    .dataframe tbody tr th:only-of-type {\n",
       "        vertical-align: middle;\n",
       "    }\n",
       "\n",
       "    .dataframe tbody tr th {\n",
       "        vertical-align: top;\n",
       "    }\n",
       "\n",
       "    .dataframe thead th {\n",
       "        text-align: right;\n",
       "    }\n",
       "</style>\n",
       "<table border=\"1\" class=\"dataframe\">\n",
       "  <thead>\n",
       "    <tr style=\"text-align: right;\">\n",
       "      <th></th>\n",
       "      <th>자치구</th>\n",
       "      <th>소계</th>\n",
       "      <th>2013년도 이전</th>\n",
       "      <th>2014년</th>\n",
       "      <th>2015년</th>\n",
       "      <th>2016년</th>\n",
       "    </tr>\n",
       "  </thead>\n",
       "  <tbody>\n",
       "    <tr>\n",
       "      <th>0</th>\n",
       "      <td>강남구</td>\n",
       "      <td>3238</td>\n",
       "      <td>1292</td>\n",
       "      <td>430</td>\n",
       "      <td>584</td>\n",
       "      <td>932</td>\n",
       "    </tr>\n",
       "    <tr>\n",
       "      <th>1</th>\n",
       "      <td>강동구</td>\n",
       "      <td>1010</td>\n",
       "      <td>379</td>\n",
       "      <td>99</td>\n",
       "      <td>155</td>\n",
       "      <td>377</td>\n",
       "    </tr>\n",
       "  </tbody>\n",
       "</table>\n",
       "</div>"
      ],
      "text/plain": [
       "   자치구    소계  2013년도 이전  2014년  2015년  2016년\n",
       "0  강남구  3238       1292    430    584    932\n",
       "1  강동구  1010        379     99    155    377"
      ]
     },
     "execution_count": 48,
     "metadata": {},
     "output_type": "execute_result"
    }
   ],
   "source": [
    "# 보고싶은 갯수를 인자로 넣어서 확인 가능\n",
    "# 컬럼명이 변경된 것을 확인\n",
    "seoul_cctv.head(2)"
   ]
  },
  {
   "cell_type": "code",
   "execution_count": 49,
   "metadata": {},
   "outputs": [],
   "source": [
    "# 데이타로드 인구 현황\n",
    "seoul_pop = pd.read_excel('./Report.xls', encoding='utf-8')"
   ]
  },
  {
   "cell_type": "code",
   "execution_count": 50,
   "metadata": {},
   "outputs": [
    {
     "data": {
      "text/html": [
       "<div>\n",
       "<style scoped>\n",
       "    .dataframe tbody tr th:only-of-type {\n",
       "        vertical-align: middle;\n",
       "    }\n",
       "\n",
       "    .dataframe tbody tr th {\n",
       "        vertical-align: top;\n",
       "    }\n",
       "\n",
       "    .dataframe thead th {\n",
       "        text-align: right;\n",
       "    }\n",
       "</style>\n",
       "<table border=\"1\" class=\"dataframe\">\n",
       "  <thead>\n",
       "    <tr style=\"text-align: right;\">\n",
       "      <th></th>\n",
       "      <th>기간</th>\n",
       "      <th>자치구</th>\n",
       "      <th>세대</th>\n",
       "      <th>인구</th>\n",
       "      <th>인구.1</th>\n",
       "      <th>인구.2</th>\n",
       "      <th>인구.3</th>\n",
       "      <th>인구.4</th>\n",
       "      <th>인구.5</th>\n",
       "      <th>인구.6</th>\n",
       "      <th>인구.7</th>\n",
       "      <th>인구.8</th>\n",
       "      <th>세대당인구</th>\n",
       "      <th>65세이상고령자</th>\n",
       "    </tr>\n",
       "  </thead>\n",
       "  <tbody>\n",
       "    <tr>\n",
       "      <th>0</th>\n",
       "      <td>기간</td>\n",
       "      <td>자치구</td>\n",
       "      <td>세대</td>\n",
       "      <td>합계</td>\n",
       "      <td>합계</td>\n",
       "      <td>합계</td>\n",
       "      <td>한국인</td>\n",
       "      <td>한국인</td>\n",
       "      <td>한국인</td>\n",
       "      <td>등록외국인</td>\n",
       "      <td>등록외국인</td>\n",
       "      <td>등록외국인</td>\n",
       "      <td>세대당인구</td>\n",
       "      <td>65세이상고령자</td>\n",
       "    </tr>\n",
       "    <tr>\n",
       "      <th>1</th>\n",
       "      <td>기간</td>\n",
       "      <td>자치구</td>\n",
       "      <td>세대</td>\n",
       "      <td>계</td>\n",
       "      <td>남자</td>\n",
       "      <td>여자</td>\n",
       "      <td>계</td>\n",
       "      <td>남자</td>\n",
       "      <td>여자</td>\n",
       "      <td>계</td>\n",
       "      <td>남자</td>\n",
       "      <td>여자</td>\n",
       "      <td>세대당인구</td>\n",
       "      <td>65세이상고령자</td>\n",
       "    </tr>\n",
       "    <tr>\n",
       "      <th>2</th>\n",
       "      <td>2018.2/4</td>\n",
       "      <td>합계</td>\n",
       "      <td>4241547</td>\n",
       "      <td>10089517</td>\n",
       "      <td>4935944</td>\n",
       "      <td>5153573</td>\n",
       "      <td>9814049</td>\n",
       "      <td>4802769</td>\n",
       "      <td>5011280</td>\n",
       "      <td>275468</td>\n",
       "      <td>133175</td>\n",
       "      <td>142293</td>\n",
       "      <td>2.31</td>\n",
       "      <td>1393671</td>\n",
       "    </tr>\n",
       "    <tr>\n",
       "      <th>3</th>\n",
       "      <td>2018.2/4</td>\n",
       "      <td>종로구</td>\n",
       "      <td>73655</td>\n",
       "      <td>163569</td>\n",
       "      <td>79522</td>\n",
       "      <td>84047</td>\n",
       "      <td>153780</td>\n",
       "      <td>75247</td>\n",
       "      <td>78533</td>\n",
       "      <td>9789</td>\n",
       "      <td>4275</td>\n",
       "      <td>5514</td>\n",
       "      <td>2.09</td>\n",
       "      <td>26512</td>\n",
       "    </tr>\n",
       "    <tr>\n",
       "      <th>4</th>\n",
       "      <td>2018.2/4</td>\n",
       "      <td>중구</td>\n",
       "      <td>61091</td>\n",
       "      <td>135427</td>\n",
       "      <td>66673</td>\n",
       "      <td>68754</td>\n",
       "      <td>126032</td>\n",
       "      <td>62260</td>\n",
       "      <td>63772</td>\n",
       "      <td>9395</td>\n",
       "      <td>4413</td>\n",
       "      <td>4982</td>\n",
       "      <td>2.06</td>\n",
       "      <td>21798</td>\n",
       "    </tr>\n",
       "  </tbody>\n",
       "</table>\n",
       "</div>"
      ],
      "text/plain": [
       "         기간  자치구       세대        인구     인구.1     인구.2     인구.3     인구.4  \\\n",
       "0        기간  자치구       세대        합계       합계       합계      한국인      한국인   \n",
       "1        기간  자치구       세대         계       남자       여자        계       남자   \n",
       "2  2018.2/4   합계  4241547  10089517  4935944  5153573  9814049  4802769   \n",
       "3  2018.2/4  종로구    73655    163569    79522    84047   153780    75247   \n",
       "4  2018.2/4   중구    61091    135427    66673    68754   126032    62260   \n",
       "\n",
       "      인구.5    인구.6    인구.7    인구.8  세대당인구  65세이상고령자  \n",
       "0      한국인   등록외국인   등록외국인   등록외국인  세대당인구  65세이상고령자  \n",
       "1       여자       계      남자      여자  세대당인구  65세이상고령자  \n",
       "2  5011280  275468  133175  142293   2.31   1393671  \n",
       "3    78533    9789    4275    5514   2.09     26512  \n",
       "4    63772    9395    4413    4982   2.06     21798  "
      ]
     },
     "execution_count": 50,
     "metadata": {},
     "output_type": "execute_result"
    }
   ],
   "source": [
    "seoul_pop.head()"
   ]
  },
  {
   "cell_type": "markdown",
   "metadata": {},
   "source": [
    "- 컬럼쪽이 원데이터에서 셀 병합이 되어 있어서 불필요하게 2개가 더 들어갔다\n",
    "> 불필요 데이터 제거 필요\n",
    "- 데이터중에 필요하지 않는 부분(남여구분, 기간등은 필요없다)\n",
    "- 총인구, 한국인총수, 외국인총수, 64세이상총수, 자치구만 로드 한다"
   ]
  },
  {
   "cell_type": "code",
   "execution_count": 51,
   "metadata": {},
   "outputs": [],
   "source": [
    "# 불필요 데이타 제거하면서 데이타 로드\n",
    "# header : 몇번째 행 부터 읽을 것인가\n",
    "# usecols : 로드할 엑셀의 컬럼명 열거\n",
    "seoul_pop = pd.read_excel('./Report.xls', encoding='utf-8', header=2, usecols='B, D, G, J, N')"
   ]
  },
  {
   "cell_type": "code",
   "execution_count": 52,
   "metadata": {},
   "outputs": [
    {
     "data": {
      "text/html": [
       "<div>\n",
       "<style scoped>\n",
       "    .dataframe tbody tr th:only-of-type {\n",
       "        vertical-align: middle;\n",
       "    }\n",
       "\n",
       "    .dataframe tbody tr th {\n",
       "        vertical-align: top;\n",
       "    }\n",
       "\n",
       "    .dataframe thead th {\n",
       "        text-align: right;\n",
       "    }\n",
       "</style>\n",
       "<table border=\"1\" class=\"dataframe\">\n",
       "  <thead>\n",
       "    <tr style=\"text-align: right;\">\n",
       "      <th></th>\n",
       "      <th>자치구</th>\n",
       "      <th>계</th>\n",
       "      <th>계.1</th>\n",
       "      <th>계.2</th>\n",
       "      <th>65세이상고령자</th>\n",
       "    </tr>\n",
       "  </thead>\n",
       "  <tbody>\n",
       "    <tr>\n",
       "      <th>0</th>\n",
       "      <td>합계</td>\n",
       "      <td>10089517</td>\n",
       "      <td>9814049</td>\n",
       "      <td>275468</td>\n",
       "      <td>1393671</td>\n",
       "    </tr>\n",
       "    <tr>\n",
       "      <th>1</th>\n",
       "      <td>종로구</td>\n",
       "      <td>163569</td>\n",
       "      <td>153780</td>\n",
       "      <td>9789</td>\n",
       "      <td>26512</td>\n",
       "    </tr>\n",
       "    <tr>\n",
       "      <th>2</th>\n",
       "      <td>중구</td>\n",
       "      <td>135427</td>\n",
       "      <td>126032</td>\n",
       "      <td>9395</td>\n",
       "      <td>21798</td>\n",
       "    </tr>\n",
       "    <tr>\n",
       "      <th>3</th>\n",
       "      <td>용산구</td>\n",
       "      <td>245245</td>\n",
       "      <td>229677</td>\n",
       "      <td>15568</td>\n",
       "      <td>37331</td>\n",
       "    </tr>\n",
       "    <tr>\n",
       "      <th>4</th>\n",
       "      <td>성동구</td>\n",
       "      <td>316068</td>\n",
       "      <td>308066</td>\n",
       "      <td>8002</td>\n",
       "      <td>42171</td>\n",
       "    </tr>\n",
       "  </tbody>\n",
       "</table>\n",
       "</div>"
      ],
      "text/plain": [
       "   자치구         계      계.1     계.2  65세이상고령자\n",
       "0   합계  10089517  9814049  275468   1393671\n",
       "1  종로구    163569   153780    9789     26512\n",
       "2   중구    135427   126032    9395     21798\n",
       "3  용산구    245245   229677   15568     37331\n",
       "4  성동구    316068   308066    8002     42171"
      ]
     },
     "execution_count": 52,
     "metadata": {},
     "output_type": "execute_result"
    }
   ],
   "source": [
    "# 로드된 데이타 확인\n",
    "seoul_pop.head()"
   ]
  },
  {
   "cell_type": "code",
   "execution_count": 53,
   "metadata": {},
   "outputs": [],
   "source": [
    "# 컬럼명 변경\n",
    "# 계 -> 인구수, 계.1 -> 한국인, 계.2 -> 외국인, 65세이상고령자 -> 고령자 로 컬럼명 변경\n",
    "dic = {seoul_pop.columns[1]: '인구', seoul_pop.columns[2]: '한국인', seoul_pop.columns[3]: '외국인', seoul_pop.columns[4]: '고령자'}\n",
    "seoul_pop.rename(columns = dic, inplace=True)"
   ]
  },
  {
   "cell_type": "code",
   "execution_count": 54,
   "metadata": {},
   "outputs": [
    {
     "data": {
      "text/html": [
       "<div>\n",
       "<style scoped>\n",
       "    .dataframe tbody tr th:only-of-type {\n",
       "        vertical-align: middle;\n",
       "    }\n",
       "\n",
       "    .dataframe tbody tr th {\n",
       "        vertical-align: top;\n",
       "    }\n",
       "\n",
       "    .dataframe thead th {\n",
       "        text-align: right;\n",
       "    }\n",
       "</style>\n",
       "<table border=\"1\" class=\"dataframe\">\n",
       "  <thead>\n",
       "    <tr style=\"text-align: right;\">\n",
       "      <th></th>\n",
       "      <th>자치구</th>\n",
       "      <th>인구</th>\n",
       "      <th>한국인</th>\n",
       "      <th>외국인</th>\n",
       "      <th>고령자</th>\n",
       "    </tr>\n",
       "  </thead>\n",
       "  <tbody>\n",
       "    <tr>\n",
       "      <th>0</th>\n",
       "      <td>합계</td>\n",
       "      <td>10089517</td>\n",
       "      <td>9814049</td>\n",
       "      <td>275468</td>\n",
       "      <td>1393671</td>\n",
       "    </tr>\n",
       "    <tr>\n",
       "      <th>1</th>\n",
       "      <td>종로구</td>\n",
       "      <td>163569</td>\n",
       "      <td>153780</td>\n",
       "      <td>9789</td>\n",
       "      <td>26512</td>\n",
       "    </tr>\n",
       "    <tr>\n",
       "      <th>2</th>\n",
       "      <td>중구</td>\n",
       "      <td>135427</td>\n",
       "      <td>126032</td>\n",
       "      <td>9395</td>\n",
       "      <td>21798</td>\n",
       "    </tr>\n",
       "  </tbody>\n",
       "</table>\n",
       "</div>"
      ],
      "text/plain": [
       "   자치구        인구      한국인     외국인      고령자\n",
       "0   합계  10089517  9814049  275468  1393671\n",
       "1  종로구    163569   153780    9789    26512\n",
       "2   중구    135427   126032    9395    21798"
      ]
     },
     "execution_count": 54,
     "metadata": {},
     "output_type": "execute_result"
    }
   ],
   "source": [
    "seoul_pop.head(3)"
   ]
  },
  {
   "cell_type": "markdown",
   "metadata": {},
   "source": [
    "### psndas 기초 학습 하기\n",
    "- basic/pandas_basic"
   ]
  },
  {
   "cell_type": "code",
   "execution_count": 55,
   "metadata": {},
   "outputs": [
    {
     "data": {
      "text/html": [
       "<div>\n",
       "<style scoped>\n",
       "    .dataframe tbody tr th:only-of-type {\n",
       "        vertical-align: middle;\n",
       "    }\n",
       "\n",
       "    .dataframe tbody tr th {\n",
       "        vertical-align: top;\n",
       "    }\n",
       "\n",
       "    .dataframe thead th {\n",
       "        text-align: right;\n",
       "    }\n",
       "</style>\n",
       "<table border=\"1\" class=\"dataframe\">\n",
       "  <thead>\n",
       "    <tr style=\"text-align: right;\">\n",
       "      <th></th>\n",
       "      <th>자치구</th>\n",
       "      <th>소계</th>\n",
       "      <th>2013년도 이전</th>\n",
       "      <th>2014년</th>\n",
       "      <th>2015년</th>\n",
       "      <th>2016년</th>\n",
       "    </tr>\n",
       "  </thead>\n",
       "  <tbody>\n",
       "    <tr>\n",
       "      <th>9</th>\n",
       "      <td>도봉구</td>\n",
       "      <td>825</td>\n",
       "      <td>238</td>\n",
       "      <td>159</td>\n",
       "      <td>42</td>\n",
       "      <td>386</td>\n",
       "    </tr>\n",
       "    <tr>\n",
       "      <th>2</th>\n",
       "      <td>강북구</td>\n",
       "      <td>831</td>\n",
       "      <td>369</td>\n",
       "      <td>120</td>\n",
       "      <td>138</td>\n",
       "      <td>204</td>\n",
       "    </tr>\n",
       "    <tr>\n",
       "      <th>5</th>\n",
       "      <td>광진구</td>\n",
       "      <td>878</td>\n",
       "      <td>573</td>\n",
       "      <td>78</td>\n",
       "      <td>53</td>\n",
       "      <td>174</td>\n",
       "    </tr>\n",
       "  </tbody>\n",
       "</table>\n",
       "</div>"
      ],
      "text/plain": [
       "   자치구   소계  2013년도 이전  2014년  2015년  2016년\n",
       "9  도봉구  825        238    159     42    386\n",
       "2  강북구  831        369    120    138    204\n",
       "5  광진구  878        573     78     53    174"
      ]
     },
     "execution_count": 55,
     "metadata": {},
     "output_type": "execute_result"
    }
   ],
   "source": [
    "# seoul_cctv 데이터에서 '소계' 컬럼을 기준으로 오름 차순 정렬\n",
    "seoul_cctv.sort_values(by='소계', ascending=True).head(3)"
   ]
  },
  {
   "cell_type": "code",
   "execution_count": 56,
   "metadata": {},
   "outputs": [
    {
     "data": {
      "text/html": [
       "<div>\n",
       "<style scoped>\n",
       "    .dataframe tbody tr th:only-of-type {\n",
       "        vertical-align: middle;\n",
       "    }\n",
       "\n",
       "    .dataframe tbody tr th {\n",
       "        vertical-align: top;\n",
       "    }\n",
       "\n",
       "    .dataframe thead th {\n",
       "        text-align: right;\n",
       "    }\n",
       "</style>\n",
       "<table border=\"1\" class=\"dataframe\">\n",
       "  <thead>\n",
       "    <tr style=\"text-align: right;\">\n",
       "      <th></th>\n",
       "      <th>자치구</th>\n",
       "      <th>소계</th>\n",
       "      <th>2013년도 이전</th>\n",
       "      <th>2014년</th>\n",
       "      <th>2015년</th>\n",
       "      <th>2016년</th>\n",
       "    </tr>\n",
       "  </thead>\n",
       "  <tbody>\n",
       "    <tr>\n",
       "      <th>0</th>\n",
       "      <td>강남구</td>\n",
       "      <td>3238</td>\n",
       "      <td>1292</td>\n",
       "      <td>430</td>\n",
       "      <td>584</td>\n",
       "      <td>932</td>\n",
       "    </tr>\n",
       "    <tr>\n",
       "      <th>18</th>\n",
       "      <td>양천구</td>\n",
       "      <td>2482</td>\n",
       "      <td>1843</td>\n",
       "      <td>142</td>\n",
       "      <td>30</td>\n",
       "      <td>467</td>\n",
       "    </tr>\n",
       "    <tr>\n",
       "      <th>14</th>\n",
       "      <td>서초구</td>\n",
       "      <td>2297</td>\n",
       "      <td>1406</td>\n",
       "      <td>157</td>\n",
       "      <td>336</td>\n",
       "      <td>398</td>\n",
       "    </tr>\n",
       "  </tbody>\n",
       "</table>\n",
       "</div>"
      ],
      "text/plain": [
       "    자치구    소계  2013년도 이전  2014년  2015년  2016년\n",
       "0   강남구  3238       1292    430    584    932\n",
       "18  양천구  2482       1843    142     30    467\n",
       "14  서초구  2297       1406    157    336    398"
      ]
     },
     "execution_count": 56,
     "metadata": {},
     "output_type": "execute_result"
    }
   ],
   "source": [
    "# seoul_cctv 데이터에서 '소계' 컬럼을 기준으로 내림 차순 정렬\n",
    "seoul_cctv.sort_values(by='소계', ascending=False).head(3)"
   ]
  },
  {
   "cell_type": "markdown",
   "metadata": {},
   "source": [
    "- CCTV 집계 수를 보고 여러 가설들이 발생될수 있다.\n",
    "- 해당 자치구의 주거지역/상업지역/지하철(교통요일) 부분도 고려되면 좋겠다는 예상을 해 볼 수 있다\n",
    "- 주거지역은 CCTV가 낮고, 상업지역은 높아 보인다.\n",
    "- 2013년도 이전 데이타 대비 3년간 증가된 CCTV수에 대한 증가율을 살펴볼 필요가있다.\n",
    "- 최근 3년간 증가율 = (2014+2015+2016) / 2013 * 100\n",
    "- 최근 증가율이라는 컬럼명으로 추가하시오."
   ]
  },
  {
   "cell_type": "code",
   "execution_count": 57,
   "metadata": {},
   "outputs": [],
   "source": [
    "seoul_cctv['최근증가율2'] = (seoul_cctv['2014년']+seoul_cctv['2015년']+seoul_cctv['2016년'])/seoul_cctv['2013년도 이전']*100"
   ]
  },
  {
   "cell_type": "code",
   "execution_count": null,
   "metadata": {},
   "outputs": [],
   "source": []
  },
  {
   "cell_type": "code",
   "execution_count": 58,
   "metadata": {},
   "outputs": [
    {
     "data": {
      "text/html": [
       "<div>\n",
       "<style scoped>\n",
       "    .dataframe tbody tr th:only-of-type {\n",
       "        vertical-align: middle;\n",
       "    }\n",
       "\n",
       "    .dataframe tbody tr th {\n",
       "        vertical-align: top;\n",
       "    }\n",
       "\n",
       "    .dataframe thead th {\n",
       "        text-align: right;\n",
       "    }\n",
       "</style>\n",
       "<table border=\"1\" class=\"dataframe\">\n",
       "  <thead>\n",
       "    <tr style=\"text-align: right;\">\n",
       "      <th></th>\n",
       "      <th>자치구</th>\n",
       "      <th>소계</th>\n",
       "      <th>2013년도 이전</th>\n",
       "      <th>2014년</th>\n",
       "      <th>2015년</th>\n",
       "      <th>2016년</th>\n",
       "      <th>최근증가율2</th>\n",
       "    </tr>\n",
       "  </thead>\n",
       "  <tbody>\n",
       "    <tr>\n",
       "      <th>0</th>\n",
       "      <td>강남구</td>\n",
       "      <td>3238</td>\n",
       "      <td>1292</td>\n",
       "      <td>430</td>\n",
       "      <td>584</td>\n",
       "      <td>932</td>\n",
       "      <td>150.619195</td>\n",
       "    </tr>\n",
       "    <tr>\n",
       "      <th>1</th>\n",
       "      <td>강동구</td>\n",
       "      <td>1010</td>\n",
       "      <td>379</td>\n",
       "      <td>99</td>\n",
       "      <td>155</td>\n",
       "      <td>377</td>\n",
       "      <td>166.490765</td>\n",
       "    </tr>\n",
       "    <tr>\n",
       "      <th>2</th>\n",
       "      <td>강북구</td>\n",
       "      <td>831</td>\n",
       "      <td>369</td>\n",
       "      <td>120</td>\n",
       "      <td>138</td>\n",
       "      <td>204</td>\n",
       "      <td>125.203252</td>\n",
       "    </tr>\n",
       "  </tbody>\n",
       "</table>\n",
       "</div>"
      ],
      "text/plain": [
       "   자치구    소계  2013년도 이전  2014년  2015년  2016년      최근증가율2\n",
       "0  강남구  3238       1292    430    584    932  150.619195\n",
       "1  강동구  1010        379     99    155    377  166.490765\n",
       "2  강북구   831        369    120    138    204  125.203252"
      ]
     },
     "execution_count": 58,
     "metadata": {},
     "output_type": "execute_result"
    }
   ],
   "source": [
    "seoul_cctv.head(3)"
   ]
  },
  {
   "cell_type": "code",
   "execution_count": 59,
   "metadata": {},
   "outputs": [
    {
     "data": {
      "text/plain": [
       "Index(['2014년', '2015년', '2016년', '최근증가율2'], dtype='object')"
      ]
     },
     "execution_count": 59,
     "metadata": {},
     "output_type": "execute_result"
    }
   ],
   "source": [
    "# del seoul_cctv['최근증가율']\n",
    "# 데이터 프레임의 컬럼\n",
    "# 데이터의 순서가 동일하고 향후 년도 데이터만 추가된다는 전제\n",
    "seoul_cctv.columns[3:]"
   ]
  },
  {
   "cell_type": "code",
   "execution_count": 60,
   "metadata": {},
   "outputs": [
    {
     "data": {
      "text/html": [
       "<div>\n",
       "<style scoped>\n",
       "    .dataframe tbody tr th:only-of-type {\n",
       "        vertical-align: middle;\n",
       "    }\n",
       "\n",
       "    .dataframe tbody tr th {\n",
       "        vertical-align: top;\n",
       "    }\n",
       "\n",
       "    .dataframe thead th {\n",
       "        text-align: right;\n",
       "    }\n",
       "</style>\n",
       "<table border=\"1\" class=\"dataframe\">\n",
       "  <thead>\n",
       "    <tr style=\"text-align: right;\">\n",
       "      <th></th>\n",
       "      <th>2014년</th>\n",
       "      <th>2015년</th>\n",
       "      <th>2016년</th>\n",
       "      <th>최근증가율2</th>\n",
       "    </tr>\n",
       "  </thead>\n",
       "  <tbody>\n",
       "    <tr>\n",
       "      <th>0</th>\n",
       "      <td>430</td>\n",
       "      <td>584</td>\n",
       "      <td>932</td>\n",
       "      <td>150.619195</td>\n",
       "    </tr>\n",
       "    <tr>\n",
       "      <th>1</th>\n",
       "      <td>99</td>\n",
       "      <td>155</td>\n",
       "      <td>377</td>\n",
       "      <td>166.490765</td>\n",
       "    </tr>\n",
       "    <tr>\n",
       "      <th>2</th>\n",
       "      <td>120</td>\n",
       "      <td>138</td>\n",
       "      <td>204</td>\n",
       "      <td>125.203252</td>\n",
       "    </tr>\n",
       "  </tbody>\n",
       "</table>\n",
       "</div>"
      ],
      "text/plain": [
       "   2014년  2015년  2016년      최근증가율2\n",
       "0    430    584    932  150.619195\n",
       "1     99    155    377  166.490765\n",
       "2    120    138    204  125.203252"
      ]
     },
     "execution_count": 60,
     "metadata": {},
     "output_type": "execute_result"
    }
   ],
   "source": [
    "# 사본 결과, 해당 컬럼 데이터만 나온다\n",
    "seoul_cctv[seoul_cctv.columns[3:]].head(3)"
   ]
  },
  {
   "cell_type": "code",
   "execution_count": 61,
   "metadata": {},
   "outputs": [
    {
     "data": {
      "text/html": [
       "<div>\n",
       "<style scoped>\n",
       "    .dataframe tbody tr th:only-of-type {\n",
       "        vertical-align: middle;\n",
       "    }\n",
       "\n",
       "    .dataframe tbody tr th {\n",
       "        vertical-align: top;\n",
       "    }\n",
       "\n",
       "    .dataframe thead th {\n",
       "        text-align: right;\n",
       "    }\n",
       "</style>\n",
       "<table border=\"1\" class=\"dataframe\">\n",
       "  <thead>\n",
       "    <tr style=\"text-align: right;\">\n",
       "      <th></th>\n",
       "      <th>2014년</th>\n",
       "      <th>2015년</th>\n",
       "      <th>2016년</th>\n",
       "      <th>최근증가율2</th>\n",
       "    </tr>\n",
       "  </thead>\n",
       "  <tbody>\n",
       "    <tr>\n",
       "      <th>0</th>\n",
       "      <td>430.0</td>\n",
       "      <td>1014.0</td>\n",
       "      <td>1946.0</td>\n",
       "      <td>2096.619195</td>\n",
       "    </tr>\n",
       "    <tr>\n",
       "      <th>1</th>\n",
       "      <td>99.0</td>\n",
       "      <td>254.0</td>\n",
       "      <td>631.0</td>\n",
       "      <td>797.490765</td>\n",
       "    </tr>\n",
       "    <tr>\n",
       "      <th>2</th>\n",
       "      <td>120.0</td>\n",
       "      <td>258.0</td>\n",
       "      <td>462.0</td>\n",
       "      <td>587.203252</td>\n",
       "    </tr>\n",
       "  </tbody>\n",
       "</table>\n",
       "</div>"
      ],
      "text/plain": [
       "   2014년   2015년   2016년       최근증가율2\n",
       "0  430.0  1014.0  1946.0  2096.619195\n",
       "1   99.0   254.0   631.0   797.490765\n",
       "2  120.0   258.0   462.0   587.203252"
      ]
     },
     "execution_count": 61,
     "metadata": {},
     "output_type": "execute_result"
    }
   ],
   "source": [
    "# 누적합\n",
    "# seoul_cctv[seoul_cctv.columns[3:]].apply(np.cumsum(axis=1))\n",
    "seoul_cctv[seoul_cctv.columns[3:]].cumsum(axis=1).head(3)"
   ]
  },
  {
   "cell_type": "code",
   "execution_count": 62,
   "metadata": {},
   "outputs": [
    {
     "data": {
      "text/html": [
       "<div>\n",
       "<style scoped>\n",
       "    .dataframe tbody tr th:only-of-type {\n",
       "        vertical-align: middle;\n",
       "    }\n",
       "\n",
       "    .dataframe tbody tr th {\n",
       "        vertical-align: top;\n",
       "    }\n",
       "\n",
       "    .dataframe thead th {\n",
       "        text-align: right;\n",
       "    }\n",
       "</style>\n",
       "<table border=\"1\" class=\"dataframe\">\n",
       "  <thead>\n",
       "    <tr style=\"text-align: right;\">\n",
       "      <th></th>\n",
       "      <th>최근증가율2</th>\n",
       "    </tr>\n",
       "  </thead>\n",
       "  <tbody>\n",
       "    <tr>\n",
       "      <th>0</th>\n",
       "      <td>2096.619195</td>\n",
       "    </tr>\n",
       "    <tr>\n",
       "      <th>1</th>\n",
       "      <td>797.490765</td>\n",
       "    </tr>\n",
       "    <tr>\n",
       "      <th>2</th>\n",
       "      <td>587.203252</td>\n",
       "    </tr>\n",
       "  </tbody>\n",
       "</table>\n",
       "</div>"
      ],
      "text/plain": [
       "        최근증가율2\n",
       "0  2096.619195\n",
       "1   797.490765\n",
       "2   587.203252"
      ]
     },
     "execution_count": 62,
     "metadata": {},
     "output_type": "execute_result"
    }
   ],
   "source": [
    "# 2016년도 데이터만 (누적합의 데이터가 모인 컬럼)\n",
    "seoul_cctv[seoul_cctv.columns[3:]].cumsum(axis=1)[seoul_cctv.columns[-1:]].head(3)"
   ]
  },
  {
   "cell_type": "code",
   "execution_count": 63,
   "metadata": {},
   "outputs": [
    {
     "data": {
      "text/plain": [
       "0    2096.619195\n",
       "1     797.490765\n",
       "2     587.203252\n",
       "Name: 최근증가율2, dtype: float64"
      ]
     },
     "execution_count": 63,
     "metadata": {},
     "output_type": "execute_result"
    }
   ],
   "source": [
    "# 위의 데이터를 series로 구성 -> 차원 축소 -> 슬라이싱 -> 인덱싱\n",
    "seoul_cctv[seoul_cctv.columns[3:]].cumsum(axis=1)[seoul_cctv.columns[-1]].head(3)"
   ]
  },
  {
   "cell_type": "code",
   "execution_count": 64,
   "metadata": {},
   "outputs": [],
   "source": [
    "tmp = seoul_cctv[seoul_cctv.columns[3:]].cumsum(axis=1)[seoul_cctv.columns[-1]]\n",
    "seoul_cctv['최근증가율'] = tmp / seoul_cctv[seoul_cctv.columns[2]] * 100\n",
    "seoul_cctv['최근증가율2'] = (seoul_cctv['2014년']+seoul_cctv['2015년']+seoul_cctv['2016년'])/seoul_cctv['2013년도 이전']*100"
   ]
  },
  {
   "cell_type": "code",
   "execution_count": 65,
   "metadata": {},
   "outputs": [
    {
     "data": {
      "text/html": [
       "<div>\n",
       "<style scoped>\n",
       "    .dataframe tbody tr th:only-of-type {\n",
       "        vertical-align: middle;\n",
       "    }\n",
       "\n",
       "    .dataframe tbody tr th {\n",
       "        vertical-align: top;\n",
       "    }\n",
       "\n",
       "    .dataframe thead th {\n",
       "        text-align: right;\n",
       "    }\n",
       "</style>\n",
       "<table border=\"1\" class=\"dataframe\">\n",
       "  <thead>\n",
       "    <tr style=\"text-align: right;\">\n",
       "      <th></th>\n",
       "      <th>자치구</th>\n",
       "      <th>소계</th>\n",
       "      <th>2013년도 이전</th>\n",
       "      <th>2014년</th>\n",
       "      <th>2015년</th>\n",
       "      <th>2016년</th>\n",
       "      <th>최근증가율2</th>\n",
       "      <th>최근증가율</th>\n",
       "    </tr>\n",
       "  </thead>\n",
       "  <tbody>\n",
       "    <tr>\n",
       "      <th>0</th>\n",
       "      <td>강남구</td>\n",
       "      <td>3238</td>\n",
       "      <td>1292</td>\n",
       "      <td>430</td>\n",
       "      <td>584</td>\n",
       "      <td>932</td>\n",
       "      <td>150.619195</td>\n",
       "      <td>162.277027</td>\n",
       "    </tr>\n",
       "    <tr>\n",
       "      <th>1</th>\n",
       "      <td>강동구</td>\n",
       "      <td>1010</td>\n",
       "      <td>379</td>\n",
       "      <td>99</td>\n",
       "      <td>155</td>\n",
       "      <td>377</td>\n",
       "      <td>166.490765</td>\n",
       "      <td>210.419727</td>\n",
       "    </tr>\n",
       "    <tr>\n",
       "      <th>2</th>\n",
       "      <td>강북구</td>\n",
       "      <td>831</td>\n",
       "      <td>369</td>\n",
       "      <td>120</td>\n",
       "      <td>138</td>\n",
       "      <td>204</td>\n",
       "      <td>125.203252</td>\n",
       "      <td>159.133673</td>\n",
       "    </tr>\n",
       "  </tbody>\n",
       "</table>\n",
       "</div>"
      ],
      "text/plain": [
       "   자치구    소계  2013년도 이전  2014년  2015년  2016년      최근증가율2       최근증가율\n",
       "0  강남구  3238       1292    430    584    932  150.619195  162.277027\n",
       "1  강동구  1010        379     99    155    377  166.490765  210.419727\n",
       "2  강북구   831        369    120    138    204  125.203252  159.133673"
      ]
     },
     "execution_count": 65,
     "metadata": {},
     "output_type": "execute_result"
    }
   ],
   "source": [
    "seoul_cctv.head(3)"
   ]
  },
  {
   "cell_type": "code",
   "execution_count": 66,
   "metadata": {},
   "outputs": [
    {
     "data": {
      "text/html": [
       "<div>\n",
       "<style scoped>\n",
       "    .dataframe tbody tr th:only-of-type {\n",
       "        vertical-align: middle;\n",
       "    }\n",
       "\n",
       "    .dataframe tbody tr th {\n",
       "        vertical-align: top;\n",
       "    }\n",
       "\n",
       "    .dataframe thead th {\n",
       "        text-align: right;\n",
       "    }\n",
       "</style>\n",
       "<table border=\"1\" class=\"dataframe\">\n",
       "  <thead>\n",
       "    <tr style=\"text-align: right;\">\n",
       "      <th></th>\n",
       "      <th>자치구</th>\n",
       "      <th>소계</th>\n",
       "      <th>2013년도 이전</th>\n",
       "      <th>2014년</th>\n",
       "      <th>2015년</th>\n",
       "      <th>2016년</th>\n",
       "      <th>최근증가율</th>\n",
       "    </tr>\n",
       "  </thead>\n",
       "  <tbody>\n",
       "    <tr>\n",
       "      <th>0</th>\n",
       "      <td>강남구</td>\n",
       "      <td>3238</td>\n",
       "      <td>1292</td>\n",
       "      <td>430</td>\n",
       "      <td>584</td>\n",
       "      <td>932</td>\n",
       "      <td>162.277027</td>\n",
       "    </tr>\n",
       "    <tr>\n",
       "      <th>1</th>\n",
       "      <td>강동구</td>\n",
       "      <td>1010</td>\n",
       "      <td>379</td>\n",
       "      <td>99</td>\n",
       "      <td>155</td>\n",
       "      <td>377</td>\n",
       "      <td>210.419727</td>\n",
       "    </tr>\n",
       "  </tbody>\n",
       "</table>\n",
       "</div>"
      ],
      "text/plain": [
       "   자치구    소계  2013년도 이전  2014년  2015년  2016년       최근증가율\n",
       "0  강남구  3238       1292    430    584    932  162.277027\n",
       "1  강동구  1010        379     99    155    377  210.419727"
      ]
     },
     "execution_count": 66,
     "metadata": {},
     "output_type": "execute_result"
    }
   ],
   "source": [
    "# 더미 데이터 제거\n",
    "try:\n",
    "    del seoul_cctv['최근증가율2']\n",
    "except Exception as e:\n",
    "    print( e )\n",
    "seoul_cctv.head(2)"
   ]
  },
  {
   "cell_type": "markdown",
   "metadata": {},
   "source": [
    "## 인구 현황 분석"
   ]
  },
  {
   "cell_type": "code",
   "execution_count": 67,
   "metadata": {},
   "outputs": [
    {
     "data": {
      "text/html": [
       "<div>\n",
       "<style scoped>\n",
       "    .dataframe tbody tr th:only-of-type {\n",
       "        vertical-align: middle;\n",
       "    }\n",
       "\n",
       "    .dataframe tbody tr th {\n",
       "        vertical-align: top;\n",
       "    }\n",
       "\n",
       "    .dataframe thead th {\n",
       "        text-align: right;\n",
       "    }\n",
       "</style>\n",
       "<table border=\"1\" class=\"dataframe\">\n",
       "  <thead>\n",
       "    <tr style=\"text-align: right;\">\n",
       "      <th></th>\n",
       "      <th>자치구</th>\n",
       "      <th>인구</th>\n",
       "      <th>한국인</th>\n",
       "      <th>외국인</th>\n",
       "      <th>고령자</th>\n",
       "    </tr>\n",
       "  </thead>\n",
       "  <tbody>\n",
       "    <tr>\n",
       "      <th>0</th>\n",
       "      <td>합계</td>\n",
       "      <td>10089517</td>\n",
       "      <td>9814049</td>\n",
       "      <td>275468</td>\n",
       "      <td>1393671</td>\n",
       "    </tr>\n",
       "    <tr>\n",
       "      <th>1</th>\n",
       "      <td>종로구</td>\n",
       "      <td>163569</td>\n",
       "      <td>153780</td>\n",
       "      <td>9789</td>\n",
       "      <td>26512</td>\n",
       "    </tr>\n",
       "  </tbody>\n",
       "</table>\n",
       "</div>"
      ],
      "text/plain": [
       "   자치구        인구      한국인     외국인      고령자\n",
       "0   합계  10089517  9814049  275468  1393671\n",
       "1  종로구    163569   153780    9789    26512"
      ]
     },
     "execution_count": 67,
     "metadata": {},
     "output_type": "execute_result"
    }
   ],
   "source": [
    "seoul_pop.head(2)"
   ]
  },
  {
   "cell_type": "code",
   "execution_count": 68,
   "metadata": {},
   "outputs": [
    {
     "data": {
      "text/html": [
       "<div>\n",
       "<style scoped>\n",
       "    .dataframe tbody tr th:only-of-type {\n",
       "        vertical-align: middle;\n",
       "    }\n",
       "\n",
       "    .dataframe tbody tr th {\n",
       "        vertical-align: top;\n",
       "    }\n",
       "\n",
       "    .dataframe thead th {\n",
       "        text-align: right;\n",
       "    }\n",
       "</style>\n",
       "<table border=\"1\" class=\"dataframe\">\n",
       "  <thead>\n",
       "    <tr style=\"text-align: right;\">\n",
       "      <th></th>\n",
       "      <th>자치구</th>\n",
       "      <th>인구</th>\n",
       "      <th>한국인</th>\n",
       "      <th>외국인</th>\n",
       "      <th>고령자</th>\n",
       "    </tr>\n",
       "  </thead>\n",
       "  <tbody>\n",
       "    <tr>\n",
       "      <th>1</th>\n",
       "      <td>종로구</td>\n",
       "      <td>163569</td>\n",
       "      <td>153780</td>\n",
       "      <td>9789</td>\n",
       "      <td>26512</td>\n",
       "    </tr>\n",
       "    <tr>\n",
       "      <th>2</th>\n",
       "      <td>중구</td>\n",
       "      <td>135427</td>\n",
       "      <td>126032</td>\n",
       "      <td>9395</td>\n",
       "      <td>21798</td>\n",
       "    </tr>\n",
       "    <tr>\n",
       "      <th>3</th>\n",
       "      <td>용산구</td>\n",
       "      <td>245245</td>\n",
       "      <td>229677</td>\n",
       "      <td>15568</td>\n",
       "      <td>37331</td>\n",
       "    </tr>\n",
       "  </tbody>\n",
       "</table>\n",
       "</div>"
      ],
      "text/plain": [
       "   자치구      인구     한국인    외국인    고령자\n",
       "1  종로구  163569  153780   9789  26512\n",
       "2   중구  135427  126032   9395  21798\n",
       "3  용산구  245245  229677  15568  37331"
      ]
     },
     "execution_count": 68,
     "metadata": {},
     "output_type": "execute_result"
    }
   ],
   "source": [
    "# 0번 행 제거\n",
    "seoul_pop.drop([0], inplace=True) # 인덱스 0번이 삭제 인덱스 1 번 이하 데이타들이 딸려 올라 오지는 않는다.!!!\n",
    "seoul_pop.head(3)"
   ]
  },
  {
   "cell_type": "code",
   "execution_count": 69,
   "metadata": {},
   "outputs": [
    {
     "data": {
      "text/plain": [
       "array(['종로구', '중구', '용산구', '성동구', '광진구', '동대문구', '중랑구', '성북구', '강북구',\n",
       "       '도봉구', '노원구', '은평구', '서대문구', '마포구', '양천구', '강서구', '구로구', '금천구',\n",
       "       '영등포구', '동작구', '관악구', '서초구', '강남구', '송파구', '강동구'], dtype=object)"
      ]
     },
     "execution_count": 69,
     "metadata": {},
     "output_type": "execute_result"
    }
   ],
   "source": [
    "# 데이터 프로엠의 고유값, 키로 검토중인 => 자치구\n",
    "# 키 후보의 데이타의 고유함 검사가 필요하다\n",
    "seoul_pop['자치구'].unique()"
   ]
  },
  {
   "cell_type": "code",
   "execution_count": 70,
   "metadata": {},
   "outputs": [
    {
     "data": {
      "text/plain": [
       "25"
      ]
     },
     "execution_count": 70,
     "metadata": {},
     "output_type": "execute_result"
    }
   ],
   "source": [
    "len(seoul_pop['자치구'].unique())"
   ]
  },
  {
   "cell_type": "code",
   "execution_count": 71,
   "metadata": {},
   "outputs": [
    {
     "data": {
      "text/plain": [
       "25"
      ]
     },
     "execution_count": 71,
     "metadata": {},
     "output_type": "execute_result"
    }
   ],
   "source": [
    "len(seoul_pop.index)\n",
    "# 행의 갯수와 지치구 컬럼데이터의 중복제거 후 개수가 동일하므로 고유하다고 봄"
   ]
  },
  {
   "cell_type": "code",
   "execution_count": 72,
   "metadata": {},
   "outputs": [
    {
     "data": {
      "text/plain": [
       "False"
      ]
     },
     "execution_count": 72,
     "metadata": {},
     "output_type": "execute_result"
    }
   ],
   "source": [
    "# NaN있을 경우 제거해야 한다, 혹은 보간 (주식)\n",
    "# NaN 데이터 추출\n",
    "# 하나라도 참이 있는지 있다면 NaN이 존재 하는 것임 \n",
    "# any() 함수는 하나라도 참이 있으면 True를 반환\n",
    "seoul_pop['자치구'].isnull().any()"
   ]
  },
  {
   "cell_type": "code",
   "execution_count": 73,
   "metadata": {},
   "outputs": [
    {
     "data": {
      "text/plain": [
       "Int64Index([], dtype='int64')"
      ]
     },
     "execution_count": 73,
     "metadata": {},
     "output_type": "execute_result"
    }
   ],
   "source": [
    "# NaN 체크방법 2\n",
    "seoul_pop[seoul_pop['자치구'].isnull()].index"
   ]
  },
  {
   "cell_type": "code",
   "execution_count": 74,
   "metadata": {},
   "outputs": [
    {
     "data": {
      "text/html": [
       "<div>\n",
       "<style scoped>\n",
       "    .dataframe tbody tr th:only-of-type {\n",
       "        vertical-align: middle;\n",
       "    }\n",
       "\n",
       "    .dataframe tbody tr th {\n",
       "        vertical-align: top;\n",
       "    }\n",
       "\n",
       "    .dataframe thead th {\n",
       "        text-align: right;\n",
       "    }\n",
       "</style>\n",
       "<table border=\"1\" class=\"dataframe\">\n",
       "  <thead>\n",
       "    <tr style=\"text-align: right;\">\n",
       "      <th></th>\n",
       "      <th>자치구</th>\n",
       "      <th>인구</th>\n",
       "      <th>한국인</th>\n",
       "      <th>외국인</th>\n",
       "      <th>고령자</th>\n",
       "    </tr>\n",
       "  </thead>\n",
       "  <tbody>\n",
       "    <tr>\n",
       "      <th>1</th>\n",
       "      <td>종로구</td>\n",
       "      <td>163569</td>\n",
       "      <td>153780</td>\n",
       "      <td>9789</td>\n",
       "      <td>26512</td>\n",
       "    </tr>\n",
       "    <tr>\n",
       "      <th>2</th>\n",
       "      <td>중구</td>\n",
       "      <td>135427</td>\n",
       "      <td>126032</td>\n",
       "      <td>9395</td>\n",
       "      <td>21798</td>\n",
       "    </tr>\n",
       "    <tr>\n",
       "      <th>3</th>\n",
       "      <td>용산구</td>\n",
       "      <td>245245</td>\n",
       "      <td>229677</td>\n",
       "      <td>15568</td>\n",
       "      <td>37331</td>\n",
       "    </tr>\n",
       "  </tbody>\n",
       "</table>\n",
       "</div>"
      ],
      "text/plain": [
       "   자치구      인구     한국인    외국인    고령자\n",
       "1  종로구  163569  153780   9789  26512\n",
       "2   중구  135427  126032   9395  21798\n",
       "3  용산구  245245  229677  15568  37331"
      ]
     },
     "execution_count": 74,
     "metadata": {},
     "output_type": "execute_result"
    }
   ],
   "source": [
    "# NaN이 존재하면 제거해라 (함축)\n",
    "if seoul_pop['자치구'].isnull().any():\n",
    "    seoul_pop.drop([seoul_pop[seoul_pop['자치구'].isnull()].index], inplace=True)\n",
    "    print('NaN 제거됨')\n",
    "seoul_pop.head(3)"
   ]
  },
  {
   "cell_type": "code",
   "execution_count": 75,
   "metadata": {},
   "outputs": [
    {
     "data": {
      "text/html": [
       "<div>\n",
       "<style scoped>\n",
       "    .dataframe tbody tr th:only-of-type {\n",
       "        vertical-align: middle;\n",
       "    }\n",
       "\n",
       "    .dataframe tbody tr th {\n",
       "        vertical-align: top;\n",
       "    }\n",
       "\n",
       "    .dataframe thead th {\n",
       "        text-align: right;\n",
       "    }\n",
       "</style>\n",
       "<table border=\"1\" class=\"dataframe\">\n",
       "  <thead>\n",
       "    <tr style=\"text-align: right;\">\n",
       "      <th></th>\n",
       "      <th>자치구</th>\n",
       "      <th>인구</th>\n",
       "      <th>한국인</th>\n",
       "      <th>외국인</th>\n",
       "      <th>고령자</th>\n",
       "    </tr>\n",
       "  </thead>\n",
       "  <tbody>\n",
       "    <tr>\n",
       "      <th>1</th>\n",
       "      <td>종로구</td>\n",
       "      <td>163569</td>\n",
       "      <td>153780</td>\n",
       "      <td>9789</td>\n",
       "      <td>26512</td>\n",
       "    </tr>\n",
       "    <tr>\n",
       "      <th>2</th>\n",
       "      <td>중구</td>\n",
       "      <td>135427</td>\n",
       "      <td>126032</td>\n",
       "      <td>9395</td>\n",
       "      <td>21798</td>\n",
       "    </tr>\n",
       "    <tr>\n",
       "      <th>3</th>\n",
       "      <td>용산구</td>\n",
       "      <td>245245</td>\n",
       "      <td>229677</td>\n",
       "      <td>15568</td>\n",
       "      <td>37331</td>\n",
       "    </tr>\n",
       "  </tbody>\n",
       "</table>\n",
       "</div>"
      ],
      "text/plain": [
       "   자치구      인구     한국인    외국인    고령자\n",
       "1  종로구  163569  153780   9789  26512\n",
       "2   중구  135427  126032   9395  21798\n",
       "3  용산구  245245  229677  15568  37331"
      ]
     },
     "execution_count": 75,
     "metadata": {},
     "output_type": "execute_result"
    }
   ],
   "source": [
    "# NaN이 존재하면 제거해라 (풀어쓴 로직)\n",
    "if seoul_pop['자치구'].isnull().any():\n",
    "    index = seoul_pop[seoul_pop['자치구'].isnull()].index\n",
    "    seoul_pop.drop([index], inplace=True)\n",
    "    print('NaN 제거됨')\n",
    "seoul_pop.head(3)"
   ]
  },
  {
   "cell_type": "code",
   "execution_count": 76,
   "metadata": {},
   "outputs": [
    {
     "data": {
      "text/html": [
       "<div>\n",
       "<style scoped>\n",
       "    .dataframe tbody tr th:only-of-type {\n",
       "        vertical-align: middle;\n",
       "    }\n",
       "\n",
       "    .dataframe tbody tr th {\n",
       "        vertical-align: top;\n",
       "    }\n",
       "\n",
       "    .dataframe thead th {\n",
       "        text-align: right;\n",
       "    }\n",
       "</style>\n",
       "<table border=\"1\" class=\"dataframe\">\n",
       "  <thead>\n",
       "    <tr style=\"text-align: right;\">\n",
       "      <th></th>\n",
       "      <th>자치구</th>\n",
       "      <th>인구</th>\n",
       "      <th>한국인</th>\n",
       "      <th>외국인</th>\n",
       "      <th>고령자</th>\n",
       "      <th>외국인비율</th>\n",
       "      <th>고령자비율</th>\n",
       "    </tr>\n",
       "  </thead>\n",
       "  <tbody>\n",
       "    <tr>\n",
       "      <th>1</th>\n",
       "      <td>종로구</td>\n",
       "      <td>163569</td>\n",
       "      <td>153780</td>\n",
       "      <td>9789</td>\n",
       "      <td>26512</td>\n",
       "      <td>5.984630</td>\n",
       "      <td>16.208450</td>\n",
       "    </tr>\n",
       "    <tr>\n",
       "      <th>2</th>\n",
       "      <td>중구</td>\n",
       "      <td>135427</td>\n",
       "      <td>126032</td>\n",
       "      <td>9395</td>\n",
       "      <td>21798</td>\n",
       "      <td>6.937317</td>\n",
       "      <td>16.095756</td>\n",
       "    </tr>\n",
       "    <tr>\n",
       "      <th>3</th>\n",
       "      <td>용산구</td>\n",
       "      <td>245245</td>\n",
       "      <td>229677</td>\n",
       "      <td>15568</td>\n",
       "      <td>37331</td>\n",
       "      <td>6.347938</td>\n",
       "      <td>15.221921</td>\n",
       "    </tr>\n",
       "  </tbody>\n",
       "</table>\n",
       "</div>"
      ],
      "text/plain": [
       "   자치구      인구     한국인    외국인    고령자     외국인비율      고령자비율\n",
       "1  종로구  163569  153780   9789  26512  5.984630  16.208450\n",
       "2   중구  135427  126032   9395  21798  6.937317  16.095756\n",
       "3  용산구  245245  229677  15568  37331  6.347938  15.221921"
      ]
     },
     "execution_count": 76,
     "metadata": {},
     "output_type": "execute_result"
    }
   ],
   "source": [
    "# 전체 인구 대비 외국인 비율, 고령자 비율 계산해서 컬럼 추가\n",
    "# 고령자 비율 = 고령자/인구수*100\n",
    "seoul_pop['외국인비율'] = seoul_pop['외국인'] / seoul_pop['인구'] * 100\n",
    "seoul_pop['고령자비율'] = seoul_pop['고령자'] / seoul_pop['인구'] * 100\n",
    "seoul_pop.head(3)"
   ]
  },
  {
   "cell_type": "code",
   "execution_count": 77,
   "metadata": {},
   "outputs": [
    {
     "data": {
      "text/html": [
       "<div>\n",
       "<style scoped>\n",
       "    .dataframe tbody tr th:only-of-type {\n",
       "        vertical-align: middle;\n",
       "    }\n",
       "\n",
       "    .dataframe tbody tr th {\n",
       "        vertical-align: top;\n",
       "    }\n",
       "\n",
       "    .dataframe thead th {\n",
       "        text-align: right;\n",
       "    }\n",
       "</style>\n",
       "<table border=\"1\" class=\"dataframe\">\n",
       "  <thead>\n",
       "    <tr style=\"text-align: right;\">\n",
       "      <th></th>\n",
       "      <th>자치구</th>\n",
       "      <th>인구</th>\n",
       "      <th>한국인</th>\n",
       "      <th>외국인</th>\n",
       "      <th>고령자</th>\n",
       "      <th>외국인비율</th>\n",
       "      <th>고령자비율</th>\n",
       "    </tr>\n",
       "  </thead>\n",
       "  <tbody>\n",
       "    <tr>\n",
       "      <th>19</th>\n",
       "      <td>영등포구</td>\n",
       "      <td>404501</td>\n",
       "      <td>369003</td>\n",
       "      <td>35498</td>\n",
       "      <td>54994</td>\n",
       "      <td>8.775751</td>\n",
       "      <td>13.595516</td>\n",
       "    </tr>\n",
       "    <tr>\n",
       "      <th>18</th>\n",
       "      <td>금천구</td>\n",
       "      <td>252752</td>\n",
       "      <td>233263</td>\n",
       "      <td>19489</td>\n",
       "      <td>34945</td>\n",
       "      <td>7.710720</td>\n",
       "      <td>13.825806</td>\n",
       "    </tr>\n",
       "    <tr>\n",
       "      <th>17</th>\n",
       "      <td>구로구</td>\n",
       "      <td>440305</td>\n",
       "      <td>407235</td>\n",
       "      <td>33070</td>\n",
       "      <td>60564</td>\n",
       "      <td>7.510703</td>\n",
       "      <td>13.755011</td>\n",
       "    </tr>\n",
       "  </tbody>\n",
       "</table>\n",
       "</div>"
      ],
      "text/plain": [
       "     자치구      인구     한국인    외국인    고령자     외국인비율      고령자비율\n",
       "19  영등포구  404501  369003  35498  54994  8.775751  13.595516\n",
       "18   금천구  252752  233263  19489  34945  7.710720  13.825806\n",
       "17   구로구  440305  407235  33070  60564  7.510703  13.755011"
      ]
     },
     "execution_count": 77,
     "metadata": {},
     "output_type": "execute_result"
    }
   ],
   "source": [
    "# 외국인 비율 기준으로 내림차순 정렬\n",
    "seoul_pop.sort_values(by='외국인비율', ascending=False).head(3)"
   ]
  },
  {
   "cell_type": "code",
   "execution_count": 78,
   "metadata": {},
   "outputs": [
    {
     "data": {
      "text/html": [
       "<div>\n",
       "<style scoped>\n",
       "    .dataframe tbody tr th:only-of-type {\n",
       "        vertical-align: middle;\n",
       "    }\n",
       "\n",
       "    .dataframe tbody tr th {\n",
       "        vertical-align: top;\n",
       "    }\n",
       "\n",
       "    .dataframe thead th {\n",
       "        text-align: right;\n",
       "    }\n",
       "</style>\n",
       "<table border=\"1\" class=\"dataframe\">\n",
       "  <thead>\n",
       "    <tr style=\"text-align: right;\">\n",
       "      <th></th>\n",
       "      <th>자치구</th>\n",
       "      <th>인구</th>\n",
       "      <th>한국인</th>\n",
       "      <th>외국인</th>\n",
       "      <th>고령자</th>\n",
       "      <th>외국인비율</th>\n",
       "      <th>고령자비율</th>\n",
       "    </tr>\n",
       "  </thead>\n",
       "  <tbody>\n",
       "    <tr>\n",
       "      <th>24</th>\n",
       "      <td>송파구</td>\n",
       "      <td>673161</td>\n",
       "      <td>666439</td>\n",
       "      <td>6722</td>\n",
       "      <td>79093</td>\n",
       "      <td>0.998572</td>\n",
       "      <td>11.749492</td>\n",
       "    </tr>\n",
       "    <tr>\n",
       "      <th>23</th>\n",
       "      <td>강남구</td>\n",
       "      <td>551888</td>\n",
       "      <td>546952</td>\n",
       "      <td>4936</td>\n",
       "      <td>66011</td>\n",
       "      <td>0.894384</td>\n",
       "      <td>11.960941</td>\n",
       "    </tr>\n",
       "    <tr>\n",
       "      <th>15</th>\n",
       "      <td>양천구</td>\n",
       "      <td>471026</td>\n",
       "      <td>467151</td>\n",
       "      <td>3875</td>\n",
       "      <td>56742</td>\n",
       "      <td>0.822672</td>\n",
       "      <td>12.046469</td>\n",
       "    </tr>\n",
       "  </tbody>\n",
       "</table>\n",
       "</div>"
      ],
      "text/plain": [
       "    자치구      인구     한국인   외국인    고령자     외국인비율      고령자비율\n",
       "24  송파구  673161  666439  6722  79093  0.998572  11.749492\n",
       "23  강남구  551888  546952  4936  66011  0.894384  11.960941\n",
       "15  양천구  471026  467151  3875  56742  0.822672  12.046469"
      ]
     },
     "execution_count": 78,
     "metadata": {},
     "output_type": "execute_result"
    }
   ],
   "source": [
    "# 고령자 비율 기준으로 올림차순 정렬\n",
    "seoul_pop.sort_values(by='고령자비율', ascending=True).head(3)"
   ]
  },
  {
   "cell_type": "markdown",
   "metadata": {},
   "source": [
    "### 데이터 병합\n",
    "- 인구대비 CCTV 주제를 분석하기 위해서 \n",
    "- 개별 데이터프레임을 하나로 합쳐야 한다"
   ]
  },
  {
   "cell_type": "code",
   "execution_count": 79,
   "metadata": {},
   "outputs": [
    {
     "data": {
      "text/html": [
       "<div>\n",
       "<style scoped>\n",
       "    .dataframe tbody tr th:only-of-type {\n",
       "        vertical-align: middle;\n",
       "    }\n",
       "\n",
       "    .dataframe tbody tr th {\n",
       "        vertical-align: top;\n",
       "    }\n",
       "\n",
       "    .dataframe thead th {\n",
       "        text-align: right;\n",
       "    }\n",
       "</style>\n",
       "<table border=\"1\" class=\"dataframe\">\n",
       "  <thead>\n",
       "    <tr style=\"text-align: right;\">\n",
       "      <th></th>\n",
       "      <th>자치구</th>\n",
       "      <th>소계</th>\n",
       "      <th>2013년도 이전</th>\n",
       "      <th>2014년</th>\n",
       "      <th>2015년</th>\n",
       "      <th>2016년</th>\n",
       "      <th>최근증가율</th>\n",
       "      <th>인구</th>\n",
       "      <th>한국인</th>\n",
       "      <th>외국인</th>\n",
       "      <th>고령자</th>\n",
       "      <th>외국인비율</th>\n",
       "      <th>고령자비율</th>\n",
       "    </tr>\n",
       "  </thead>\n",
       "  <tbody>\n",
       "    <tr>\n",
       "      <th>0</th>\n",
       "      <td>강남구</td>\n",
       "      <td>3238</td>\n",
       "      <td>1292</td>\n",
       "      <td>430</td>\n",
       "      <td>584</td>\n",
       "      <td>932</td>\n",
       "      <td>162.277027</td>\n",
       "      <td>551888</td>\n",
       "      <td>546952</td>\n",
       "      <td>4936</td>\n",
       "      <td>66011</td>\n",
       "      <td>0.894384</td>\n",
       "      <td>11.960941</td>\n",
       "    </tr>\n",
       "    <tr>\n",
       "      <th>1</th>\n",
       "      <td>강동구</td>\n",
       "      <td>1010</td>\n",
       "      <td>379</td>\n",
       "      <td>99</td>\n",
       "      <td>155</td>\n",
       "      <td>377</td>\n",
       "      <td>210.419727</td>\n",
       "      <td>437050</td>\n",
       "      <td>432749</td>\n",
       "      <td>4301</td>\n",
       "      <td>57680</td>\n",
       "      <td>0.984098</td>\n",
       "      <td>13.197575</td>\n",
       "    </tr>\n",
       "    <tr>\n",
       "      <th>2</th>\n",
       "      <td>강북구</td>\n",
       "      <td>831</td>\n",
       "      <td>369</td>\n",
       "      <td>120</td>\n",
       "      <td>138</td>\n",
       "      <td>204</td>\n",
       "      <td>159.133673</td>\n",
       "      <td>326063</td>\n",
       "      <td>322385</td>\n",
       "      <td>3678</td>\n",
       "      <td>57401</td>\n",
       "      <td>1.128003</td>\n",
       "      <td>17.604267</td>\n",
       "    </tr>\n",
       "  </tbody>\n",
       "</table>\n",
       "</div>"
      ],
      "text/plain": [
       "   자치구    소계  2013년도 이전  2014년  2015년  2016년       최근증가율      인구     한국인  \\\n",
       "0  강남구  3238       1292    430    584    932  162.277027  551888  546952   \n",
       "1  강동구  1010        379     99    155    377  210.419727  437050  432749   \n",
       "2  강북구   831        369    120    138    204  159.133673  326063  322385   \n",
       "\n",
       "    외국인    고령자     외국인비율      고령자비율  \n",
       "0  4936  66011  0.894384  11.960941  \n",
       "1  4301  57680  0.984098  13.197575  \n",
       "2  3678  57401  1.128003  17.604267  "
      ]
     },
     "execution_count": 79,
     "metadata": {},
     "output_type": "execute_result"
    }
   ],
   "source": [
    "# 교집합\n",
    "data_result = pd.merge( seoul_cctv, seoul_pop, on='자치구' )\n",
    "data_result.head(3)"
   ]
  },
  {
   "cell_type": "code",
   "execution_count": 80,
   "metadata": {},
   "outputs": [],
   "source": [
    "# 2013년도 이전\t2014년\t2015년\t2016년 제거\n",
    "try:\n",
    "    del data_result['2013년도 이전']\n",
    "    del data_result['2014년']\n",
    "    del data_result['2015년']\n",
    "    del data_result['2016년']\n",
    "except Exception as e:\n",
    "    print(e)"
   ]
  },
  {
   "cell_type": "code",
   "execution_count": 81,
   "metadata": {},
   "outputs": [
    {
     "data": {
      "text/html": [
       "<div>\n",
       "<style scoped>\n",
       "    .dataframe tbody tr th:only-of-type {\n",
       "        vertical-align: middle;\n",
       "    }\n",
       "\n",
       "    .dataframe tbody tr th {\n",
       "        vertical-align: top;\n",
       "    }\n",
       "\n",
       "    .dataframe thead th {\n",
       "        text-align: right;\n",
       "    }\n",
       "</style>\n",
       "<table border=\"1\" class=\"dataframe\">\n",
       "  <thead>\n",
       "    <tr style=\"text-align: right;\">\n",
       "      <th></th>\n",
       "      <th>자치구</th>\n",
       "      <th>소계</th>\n",
       "      <th>최근증가율</th>\n",
       "      <th>인구</th>\n",
       "      <th>한국인</th>\n",
       "      <th>외국인</th>\n",
       "      <th>고령자</th>\n",
       "      <th>외국인비율</th>\n",
       "      <th>고령자비율</th>\n",
       "    </tr>\n",
       "  </thead>\n",
       "  <tbody>\n",
       "    <tr>\n",
       "      <th>0</th>\n",
       "      <td>강남구</td>\n",
       "      <td>3238</td>\n",
       "      <td>162.277027</td>\n",
       "      <td>551888</td>\n",
       "      <td>546952</td>\n",
       "      <td>4936</td>\n",
       "      <td>66011</td>\n",
       "      <td>0.894384</td>\n",
       "      <td>11.960941</td>\n",
       "    </tr>\n",
       "    <tr>\n",
       "      <th>1</th>\n",
       "      <td>강동구</td>\n",
       "      <td>1010</td>\n",
       "      <td>210.419727</td>\n",
       "      <td>437050</td>\n",
       "      <td>432749</td>\n",
       "      <td>4301</td>\n",
       "      <td>57680</td>\n",
       "      <td>0.984098</td>\n",
       "      <td>13.197575</td>\n",
       "    </tr>\n",
       "    <tr>\n",
       "      <th>2</th>\n",
       "      <td>강북구</td>\n",
       "      <td>831</td>\n",
       "      <td>159.133673</td>\n",
       "      <td>326063</td>\n",
       "      <td>322385</td>\n",
       "      <td>3678</td>\n",
       "      <td>57401</td>\n",
       "      <td>1.128003</td>\n",
       "      <td>17.604267</td>\n",
       "    </tr>\n",
       "  </tbody>\n",
       "</table>\n",
       "</div>"
      ],
      "text/plain": [
       "   자치구    소계       최근증가율      인구     한국인   외국인    고령자     외국인비율      고령자비율\n",
       "0  강남구  3238  162.277027  551888  546952  4936  66011  0.894384  11.960941\n",
       "1  강동구  1010  210.419727  437050  432749  4301  57680  0.984098  13.197575\n",
       "2  강북구   831  159.133673  326063  322385  3678  57401  1.128003  17.604267"
      ]
     },
     "execution_count": 81,
     "metadata": {},
     "output_type": "execute_result"
    }
   ],
   "source": [
    "data_result.head(3)"
   ]
  },
  {
   "cell_type": "code",
   "execution_count": 82,
   "metadata": {},
   "outputs": [
    {
     "data": {
      "text/html": [
       "<div>\n",
       "<style scoped>\n",
       "    .dataframe tbody tr th:only-of-type {\n",
       "        vertical-align: middle;\n",
       "    }\n",
       "\n",
       "    .dataframe tbody tr th {\n",
       "        vertical-align: top;\n",
       "    }\n",
       "\n",
       "    .dataframe thead th {\n",
       "        text-align: right;\n",
       "    }\n",
       "</style>\n",
       "<table border=\"1\" class=\"dataframe\">\n",
       "  <thead>\n",
       "    <tr style=\"text-align: right;\">\n",
       "      <th></th>\n",
       "      <th>소계</th>\n",
       "      <th>최근증가율</th>\n",
       "      <th>인구</th>\n",
       "      <th>한국인</th>\n",
       "      <th>외국인</th>\n",
       "      <th>고령자</th>\n",
       "      <th>외국인비율</th>\n",
       "      <th>고령자비율</th>\n",
       "    </tr>\n",
       "    <tr>\n",
       "      <th>자치구</th>\n",
       "      <th></th>\n",
       "      <th></th>\n",
       "      <th></th>\n",
       "      <th></th>\n",
       "      <th></th>\n",
       "      <th></th>\n",
       "      <th></th>\n",
       "      <th></th>\n",
       "    </tr>\n",
       "  </thead>\n",
       "  <tbody>\n",
       "    <tr>\n",
       "      <th>강남구</th>\n",
       "      <td>3238</td>\n",
       "      <td>162.277027</td>\n",
       "      <td>551888</td>\n",
       "      <td>546952</td>\n",
       "      <td>4936</td>\n",
       "      <td>66011</td>\n",
       "      <td>0.894384</td>\n",
       "      <td>11.960941</td>\n",
       "    </tr>\n",
       "    <tr>\n",
       "      <th>강동구</th>\n",
       "      <td>1010</td>\n",
       "      <td>210.419727</td>\n",
       "      <td>437050</td>\n",
       "      <td>432749</td>\n",
       "      <td>4301</td>\n",
       "      <td>57680</td>\n",
       "      <td>0.984098</td>\n",
       "      <td>13.197575</td>\n",
       "    </tr>\n",
       "  </tbody>\n",
       "</table>\n",
       "</div>"
      ],
      "text/plain": [
       "       소계       최근증가율      인구     한국인   외국인    고령자     외국인비율      고령자비율\n",
       "자치구                                                                    \n",
       "강남구  3238  162.277027  551888  546952  4936  66011  0.894384  11.960941\n",
       "강동구  1010  210.419727  437050  432749  4301  57680  0.984098  13.197575"
      ]
     },
     "execution_count": 82,
     "metadata": {},
     "output_type": "execute_result"
    }
   ],
   "source": [
    "# 인덱스가 단순히 0~ 시작하는 의미없는 숫자이다 \n",
    "# 2차원 시각화 할때 (x좌표(좌우), y좌표(상하)) \n",
    "# 키로 사용한 그리고, 고유한 값을 가진 컬럼 => 자치구 -> 인덱스로 변경하겠다\n",
    "# 특정 컬럼의 인덱스화\n",
    "data_result.set_index( '자치구', inplace=True )\n",
    "data_result.head(2)"
   ]
  },
  {
   "cell_type": "code",
   "execution_count": 104,
   "metadata": {},
   "outputs": [
    {
     "data": {
      "text/plain": [
       "array([[1.        , 0.22536935],\n",
       "       [0.22536935, 1.        ]])"
      ]
     },
     "execution_count": 104,
     "metadata": {},
     "output_type": "execute_result"
    }
   ],
   "source": [
    "# CCTV 소계 대비 인구수, 고령자비율, 외국인비율 어던 상관이 있느지 체크\n",
    "# 상관계수 : 0.1 이하 : 무시\n",
    "# ~0.3 이하 : 약한 상관 관계\n",
    "# ~-0.7 이하 : 뚜렷한 상관 관계\n",
    "# np.corrcoef(): 상관 계수 계산 함수\n",
    "np.corrcoef( data_result['인구'], data_result['소계'] )\n",
    "# 대각선을 기준으로 대칭인 행렬\n",
    "# 대각선을 제외하고 값을 확인하면 된다 \n",
    "# 0.22536935 => 약한 상관 관계"
   ]
  },
  {
   "cell_type": "code",
   "execution_count": 84,
   "metadata": {},
   "outputs": [
    {
     "data": {
      "text/plain": [
       "array([[ 1.        , -0.04749504],\n",
       "       [-0.04749504,  1.        ]])"
      ]
     },
     "execution_count": 84,
     "metadata": {},
     "output_type": "execute_result"
    }
   ],
   "source": [
    "np.corrcoef( data_result['외국인비율'], data_result['소계'] )"
   ]
  },
  {
   "cell_type": "code",
   "execution_count": 85,
   "metadata": {},
   "outputs": [
    {
     "data": {
      "text/plain": [
       "array([[ 1.        , -0.26836087],\n",
       "       [-0.26836087,  1.        ]])"
      ]
     },
     "execution_count": 85,
     "metadata": {},
     "output_type": "execute_result"
    }
   ],
   "source": [
    "np.corrcoef( data_result['고령자비율'], data_result['소계'] )"
   ]
  },
  {
   "cell_type": "code",
   "execution_count": 86,
   "metadata": {},
   "outputs": [],
   "source": [
    "# 외국인비율과 고령자 비율은 CCTV설치 와 연관성이 없다"
   ]
  },
  {
   "cell_type": "code",
   "execution_count": 87,
   "metadata": {},
   "outputs": [
    {
     "data": {
      "text/html": [
       "<div>\n",
       "<style scoped>\n",
       "    .dataframe tbody tr th:only-of-type {\n",
       "        vertical-align: middle;\n",
       "    }\n",
       "\n",
       "    .dataframe tbody tr th {\n",
       "        vertical-align: top;\n",
       "    }\n",
       "\n",
       "    .dataframe thead th {\n",
       "        text-align: right;\n",
       "    }\n",
       "</style>\n",
       "<table border=\"1\" class=\"dataframe\">\n",
       "  <thead>\n",
       "    <tr style=\"text-align: right;\">\n",
       "      <th></th>\n",
       "      <th>소계</th>\n",
       "      <th>최근증가율</th>\n",
       "      <th>인구</th>\n",
       "      <th>한국인</th>\n",
       "      <th>외국인</th>\n",
       "      <th>고령자</th>\n",
       "      <th>외국인비율</th>\n",
       "      <th>고령자비율</th>\n",
       "    </tr>\n",
       "    <tr>\n",
       "      <th>자치구</th>\n",
       "      <th></th>\n",
       "      <th></th>\n",
       "      <th></th>\n",
       "      <th></th>\n",
       "      <th></th>\n",
       "      <th></th>\n",
       "      <th></th>\n",
       "      <th></th>\n",
       "    </tr>\n",
       "  </thead>\n",
       "  <tbody>\n",
       "    <tr>\n",
       "      <th>강남구</th>\n",
       "      <td>3238</td>\n",
       "      <td>162.277027</td>\n",
       "      <td>551888</td>\n",
       "      <td>546952</td>\n",
       "      <td>4936</td>\n",
       "      <td>66011</td>\n",
       "      <td>0.894384</td>\n",
       "      <td>11.960941</td>\n",
       "    </tr>\n",
       "    <tr>\n",
       "      <th>양천구</th>\n",
       "      <td>2482</td>\n",
       "      <td>36.552997</td>\n",
       "      <td>471026</td>\n",
       "      <td>467151</td>\n",
       "      <td>3875</td>\n",
       "      <td>56742</td>\n",
       "      <td>0.822672</td>\n",
       "      <td>12.046469</td>\n",
       "    </tr>\n",
       "    <tr>\n",
       "      <th>서초구</th>\n",
       "      <td>2297</td>\n",
       "      <td>67.878468</td>\n",
       "      <td>443989</td>\n",
       "      <td>439844</td>\n",
       "      <td>4145</td>\n",
       "      <td>54614</td>\n",
       "      <td>0.933582</td>\n",
       "      <td>12.300755</td>\n",
       "    </tr>\n",
       "  </tbody>\n",
       "</table>\n",
       "</div>"
      ],
      "text/plain": [
       "       소계       최근증가율      인구     한국인   외국인    고령자     외국인비율      고령자비율\n",
       "자치구                                                                    \n",
       "강남구  3238  162.277027  551888  546952  4936  66011  0.894384  11.960941\n",
       "양천구  2482   36.552997  471026  467151  3875  56742  0.822672  12.046469\n",
       "서초구  2297   67.878468  443989  439844  4145  54614  0.933582  12.300755"
      ]
     },
     "execution_count": 87,
     "metadata": {},
     "output_type": "execute_result"
    }
   ],
   "source": [
    "# CCTV 소계 중심 정렬\n",
    "# CCTV 소계 대비 인구에 대한 결과치가 잘 않보인다 -> 시각화 \n",
    "data_result.sort_values(by='소계', ascending=False).head(3)"
   ]
  },
  {
   "cell_type": "code",
   "execution_count": 88,
   "metadata": {},
   "outputs": [
    {
     "data": {
      "text/html": [
       "<div>\n",
       "<style scoped>\n",
       "    .dataframe tbody tr th:only-of-type {\n",
       "        vertical-align: middle;\n",
       "    }\n",
       "\n",
       "    .dataframe tbody tr th {\n",
       "        vertical-align: top;\n",
       "    }\n",
       "\n",
       "    .dataframe thead th {\n",
       "        text-align: right;\n",
       "    }\n",
       "</style>\n",
       "<table border=\"1\" class=\"dataframe\">\n",
       "  <thead>\n",
       "    <tr style=\"text-align: right;\">\n",
       "      <th></th>\n",
       "      <th>소계</th>\n",
       "      <th>최근증가율</th>\n",
       "      <th>인구</th>\n",
       "      <th>한국인</th>\n",
       "      <th>외국인</th>\n",
       "      <th>고령자</th>\n",
       "      <th>외국인비율</th>\n",
       "      <th>고령자비율</th>\n",
       "    </tr>\n",
       "    <tr>\n",
       "      <th>자치구</th>\n",
       "      <th></th>\n",
       "      <th></th>\n",
       "      <th></th>\n",
       "      <th></th>\n",
       "      <th></th>\n",
       "      <th></th>\n",
       "      <th></th>\n",
       "      <th></th>\n",
       "    </tr>\n",
       "  </thead>\n",
       "  <tbody>\n",
       "    <tr>\n",
       "      <th>송파구</th>\n",
       "      <td>1081</td>\n",
       "      <td>124.073313</td>\n",
       "      <td>673161</td>\n",
       "      <td>666439</td>\n",
       "      <td>6722</td>\n",
       "      <td>79093</td>\n",
       "      <td>0.998572</td>\n",
       "      <td>11.749492</td>\n",
       "    </tr>\n",
       "    <tr>\n",
       "      <th>강서구</th>\n",
       "      <td>911</td>\n",
       "      <td>169.534488</td>\n",
       "      <td>606981</td>\n",
       "      <td>600257</td>\n",
       "      <td>6724</td>\n",
       "      <td>78042</td>\n",
       "      <td>1.107778</td>\n",
       "      <td>12.857404</td>\n",
       "    </tr>\n",
       "    <tr>\n",
       "      <th>노원구</th>\n",
       "      <td>1566</td>\n",
       "      <td>223.787802</td>\n",
       "      <td>553177</td>\n",
       "      <td>549365</td>\n",
       "      <td>3812</td>\n",
       "      <td>75741</td>\n",
       "      <td>0.689110</td>\n",
       "      <td>13.692001</td>\n",
       "    </tr>\n",
       "  </tbody>\n",
       "</table>\n",
       "</div>"
      ],
      "text/plain": [
       "       소계       최근증가율      인구     한국인   외국인    고령자     외국인비율      고령자비율\n",
       "자치구                                                                    \n",
       "송파구  1081  124.073313  673161  666439  6722  79093  0.998572  11.749492\n",
       "강서구   911  169.534488  606981  600257  6724  78042  1.107778  12.857404\n",
       "노원구  1566  223.787802  553177  549365  3812  75741  0.689110  13.692001"
      ]
     },
     "execution_count": 88,
     "metadata": {},
     "output_type": "execute_result"
    }
   ],
   "source": [
    "data_result.sort_values(by='인구', ascending=False).head(3)"
   ]
  },
  {
   "cell_type": "markdown",
   "metadata": {},
   "source": [
    "### 시각화(플롯팅)\n",
    "- CCTV 현황과 인구 현황을 시각화 하여\n",
    "- 데이터의 현황을 쉽게 살표 본다"
   ]
  },
  {
   "cell_type": "code",
   "execution_count": 159,
   "metadata": {},
   "outputs": [],
   "source": [
    "import matplotlib.pyplot as plt\n",
    "# 주피터 내장 처리를 위해\n",
    "%matplotlib inline\n",
    "# matplotlib 한글 처리를 위해\n",
    "import platform\n",
    "from matplotlib import font_manager, rc\n",
    "\n",
    "font_list = font_manager.findSystemFonts(fontpaths=None, fontext='ttf')\n",
    "# font_path = font_list[100]"
   ]
  },
  {
   "cell_type": "code",
   "execution_count": 162,
   "metadata": {},
   "outputs": [],
   "source": [
    "# 한글처리\n",
    "plt.rcParams['axes.unicode_minus'] = False\n",
    "if platform.system() == 'Darwin': # 맥\n",
    "    rc('font', family='AppleGothic')\n",
    "elif platform.system() == 'Windows': # 윈도우\n",
    "    font_path = 'c:/Windows/Fonts/malgun.ttf'\n",
    "    font_name = font_manager.FontProperties(fname=font_path).get_name()\n",
    "    rc('font', family=font_name)\n",
    "else:\n",
    "    print('알수없는 시스템 미적용')"
   ]
  },
  {
   "cell_type": "code",
   "execution_count": 163,
   "metadata": {},
   "outputs": [
    {
     "data": {
      "image/png": "[encoded data removed]",
      "text/plain": [
       "<Figure size 720x432 with 1 Axes>"
      ]
     },
     "metadata": {
      "needs_background": "light"
     },
     "output_type": "display_data"
    }
   ],
   "source": [
    "plt.figure()\n",
    "# 차트 모양 : barh : bar + h(수평선 차트 드로잉)\n",
    "data_result['소계'].plot(kind='barh', grid=True, figsize=(10, 6))\n",
    "plt.show()"
   ]
  },
  {
   "cell_type": "code",
   "execution_count": 132,
   "metadata": {},
   "outputs": [
    {
     "data": {
      "image/png": "[encoded data removed]",
      "text/plain": [
       "<Figure size 720x432 with 1 Axes>"
      ]
     },
     "metadata": {
      "needs_background": "light"
     },
     "output_type": "display_data"
    }
   ],
   "source": [
    "plt.figure()\n",
    "# 해당 컬럼만 소트해서 시각화\n",
    "data_result['소계'].sort_values(ascending=False).plot(kind='barh', grid=True, figsize=(10, 6))\n",
    "plt.show()"
   ]
  },
  {
   "cell_type": "code",
   "execution_count": 131,
   "metadata": {},
   "outputs": [
    {
     "data": {
      "text/plain": [
       "<Figure size 432x288 with 0 Axes>"
      ]
     },
     "metadata": {},
     "output_type": "display_data"
    },
    {
     "data": {
      "image/png": "[encoded data removed]",
      "text/plain": [
       "<Figure size 720x432 with 1 Axes>"
      ]
     },
     "metadata": {
      "needs_background": "light"
     },
     "output_type": "display_data"
    }
   ],
   "source": [
    "plt.figure()\n",
    "# \n",
    "data_result.sort_values(by='소계', ascending=False).plot(kind='barh', grid=True, figsize=(10, 6))\n",
    "plt.show()"
   ]
  },
  {
   "cell_type": "code",
   "execution_count": 173,
   "metadata": {},
   "outputs": [
    {
     "data": {
      "image/png": "[encoded data removed]",
      "text/plain": [
       "<Figure size 720x720 with 1 Axes>"
      ]
     },
     "metadata": {
      "needs_background": "light"
     },
     "output_type": "display_data"
    }
   ],
   "source": [
    "# 인구당 CCTV 설치 비율\n",
    "# CCTV 비율 = 소계 / 인구수 * 100\n",
    "data_result['CCTV비율'] = data_result['소계'] / data_result['인구'] * 100\n",
    "data_result['CCTV비율'].sort_values().plot(kind='barh', grid=True, figsize=(10, 10))\n",
    "plt.show()\n",
    "# 종로구가 인구대비 가장 많이 CCTV를 설치 한 지역으로 나옴\n",
    "# 인구대비 설치 비율이 적절한지 판단 할려면 -> 적절한 설치 비율을 찾아야 한다."
   ]
  },
  {
   "cell_type": "code",
   "execution_count": 95,
   "metadata": {},
   "outputs": [
    {
     "data": {
      "image/png": "[encoded data removed]",
      "text/plain": [
       "<Figure size 432x288 with 1 Axes>"
      ]
     },
     "metadata": {
      "needs_background": "light"
     },
     "output_type": "display_data"
    }
   ],
   "source": [
    "# x축 인구수, y축은 cctv 수는 분포도 표현\n",
    "plt.scatter(data_result['인구'], data_result['소계'], s=50)\n",
    "plt.xlabel('인구수')\n",
    "plt.ylabel('CCTV')\n",
    "plt.grid()\n",
    "plt.show()"
   ]
  },
  {
   "cell_type": "code",
   "execution_count": 230,
   "metadata": {},
   "outputs": [
    {
     "data": {
      "text/plain": [
       "array([1.08389848e-03, 1.07787951e+03])"
      ]
     },
     "execution_count": 230,
     "metadata": {},
     "output_type": "execute_result"
    }
   ],
   "source": [
    "# numpy에서 지원되는 함수를 이용하여 \n",
    "# 인구수:입력 소계:출력 => 이것을 만족하는 함수(모델)을 생성\n",
    "# 함수 1차, 2차, 3차, ~~~ 15차 진행함\n",
    "# 입력대비 출력을 만족하는 1차 함수 생성\n",
    "# 1차함수 y = ax + b => 기울기, 절편\n",
    "fp1 = np.polyfit(data_result['인구'], data_result['소계'], 1)\n",
    "fp1\n",
    "# [기울기, 절편]"
   ]
  },
  {
   "cell_type": "code",
   "execution_count": 231,
   "metadata": {},
   "outputs": [],
   "source": [
    "# 함수 생성\n",
    "f1 = np.poly1d(fp1)"
   ]
  },
  {
   "cell_type": "code",
   "execution_count": 238,
   "metadata": {},
   "outputs": [],
   "source": [
    "# 입력대비 출력을 만족하는 1차 함수 생성 후 시각화를 통해 검토\n",
    "# x 값은 100000 ~ 700000 사이에 100씩 증가\n",
    "x = np.linspace(100000, 700000, 100)\n"
   ]
  },
  {
   "cell_type": "code",
   "execution_count": 236,
   "metadata": {},
   "outputs": [
    {
     "data": {
      "image/png": "[encoded data removed]",
      "text/plain": [
       "<Figure size 432x288 with 1 Axes>"
      ]
     },
     "metadata": {
      "needs_background": "light"
     },
     "output_type": "display_data"
    }
   ],
   "source": [
    "# 시각화\n",
    "plt.scatter(data_result['인구'], data_result['소계'], s=50)\n",
    "# 인구대비 CCTV의 관계를 1차함수로 표현한 선\n",
    "plt.plot(x, f1(x), ls='dashed', lw=3, color='g')\n",
    "plt.xlabel('인구수')\n",
    "plt.ylabel('CCTV')\n",
    "plt.grid()\n",
    "plt.show()\n",
    "# 아래의 녹색 점선의 기준이 적정 수라고 볼 수 있다 \n",
    "# (1차 함수만 구한 거라 확정 할 수는 없다, 15차까지구하면서 확인해야 한다.)"
   ]
  },
  {
   "cell_type": "markdown",
   "metadata": {},
   "source": [
    "- 1차함수 직선은 전체의 대표값\n",
    "- 40만명 기준 적절한 CCTV의 설치대수는 1500대를 평균적으로 적절하다고 본다.\n",
    "- 데이터 변곡점에 어떤 자치구의 데이터인지 마킹\n",
    "- 오차율 계산해서 데이터 포함\n",
    "- 칼라바 및 칼라맵을 사용하여 데이터의 속성을 표현"
   ]
  },
  {
   "cell_type": "code",
   "execution_count": 239,
   "metadata": {},
   "outputs": [
    {
     "data": {
      "text/html": [
       "<div>\n",
       "<style scoped>\n",
       "    .dataframe tbody tr th:only-of-type {\n",
       "        vertical-align: middle;\n",
       "    }\n",
       "\n",
       "    .dataframe tbody tr th {\n",
       "        vertical-align: top;\n",
       "    }\n",
       "\n",
       "    .dataframe thead th {\n",
       "        text-align: right;\n",
       "    }\n",
       "</style>\n",
       "<table border=\"1\" class=\"dataframe\">\n",
       "  <thead>\n",
       "    <tr style=\"text-align: right;\">\n",
       "      <th></th>\n",
       "      <th>소계</th>\n",
       "      <th>최근증가율</th>\n",
       "      <th>인구</th>\n",
       "      <th>한국인</th>\n",
       "      <th>외국인</th>\n",
       "      <th>고령자</th>\n",
       "      <th>외국인비율</th>\n",
       "      <th>고령자비율</th>\n",
       "      <th>CCTV비율</th>\n",
       "      <th>오차</th>\n",
       "    </tr>\n",
       "    <tr>\n",
       "      <th>자치구</th>\n",
       "      <th></th>\n",
       "      <th></th>\n",
       "      <th></th>\n",
       "      <th></th>\n",
       "      <th></th>\n",
       "      <th></th>\n",
       "      <th></th>\n",
       "      <th></th>\n",
       "      <th></th>\n",
       "      <th></th>\n",
       "    </tr>\n",
       "  </thead>\n",
       "  <tbody>\n",
       "    <tr>\n",
       "      <th>강남구</th>\n",
       "      <td>3238</td>\n",
       "      <td>162.277027</td>\n",
       "      <td>551888</td>\n",
       "      <td>546952</td>\n",
       "      <td>4936</td>\n",
       "      <td>66011</td>\n",
       "      <td>0.894384</td>\n",
       "      <td>11.960941</td>\n",
       "      <td>0.586713</td>\n",
       "      <td>1561.929921</td>\n",
       "    </tr>\n",
       "    <tr>\n",
       "      <th>양천구</th>\n",
       "      <td>2482</td>\n",
       "      <td>36.552997</td>\n",
       "      <td>471026</td>\n",
       "      <td>467151</td>\n",
       "      <td>3875</td>\n",
       "      <td>56742</td>\n",
       "      <td>0.822672</td>\n",
       "      <td>12.046469</td>\n",
       "      <td>0.526935</td>\n",
       "      <td>893.576120</td>\n",
       "    </tr>\n",
       "    <tr>\n",
       "      <th>용산구</th>\n",
       "      <td>2096</td>\n",
       "      <td>57.106460</td>\n",
       "      <td>245245</td>\n",
       "      <td>229677</td>\n",
       "      <td>15568</td>\n",
       "      <td>37331</td>\n",
       "      <td>6.347938</td>\n",
       "      <td>15.221921</td>\n",
       "      <td>0.854656</td>\n",
       "      <td>752.299803</td>\n",
       "    </tr>\n",
       "    <tr>\n",
       "      <th>서초구</th>\n",
       "      <td>2297</td>\n",
       "      <td>67.878468</td>\n",
       "      <td>443989</td>\n",
       "      <td>439844</td>\n",
       "      <td>4145</td>\n",
       "      <td>54614</td>\n",
       "      <td>0.933582</td>\n",
       "      <td>12.300755</td>\n",
       "      <td>0.517355</td>\n",
       "      <td>737.881483</td>\n",
       "    </tr>\n",
       "    <tr>\n",
       "      <th>은평구</th>\n",
       "      <td>2108</td>\n",
       "      <td>92.727351</td>\n",
       "      <td>489045</td>\n",
       "      <td>484642</td>\n",
       "      <td>4403</td>\n",
       "      <td>76097</td>\n",
       "      <td>0.900326</td>\n",
       "      <td>15.560327</td>\n",
       "      <td>0.431044</td>\n",
       "      <td>500.045353</td>\n",
       "    </tr>\n",
       "    <tr>\n",
       "      <th>관악구</th>\n",
       "      <td>2109</td>\n",
       "      <td>166.937444</td>\n",
       "      <td>521960</td>\n",
       "      <td>504048</td>\n",
       "      <td>17912</td>\n",
       "      <td>71317</td>\n",
       "      <td>3.431681</td>\n",
       "      <td>13.663308</td>\n",
       "      <td>0.404054</td>\n",
       "      <td>465.368835</td>\n",
       "    </tr>\n",
       "    <tr>\n",
       "      <th>동대문구</th>\n",
       "      <td>1870</td>\n",
       "      <td>81.753865</td>\n",
       "      <td>364527</td>\n",
       "      <td>348903</td>\n",
       "      <td>15624</td>\n",
       "      <td>56675</td>\n",
       "      <td>4.286102</td>\n",
       "      <td>15.547545</td>\n",
       "      <td>0.512994</td>\n",
       "      <td>397.010225</td>\n",
       "    </tr>\n",
       "    <tr>\n",
       "      <th>종로구</th>\n",
       "      <td>1619</td>\n",
       "      <td>302.569486</td>\n",
       "      <td>163569</td>\n",
       "      <td>153780</td>\n",
       "      <td>9789</td>\n",
       "      <td>26512</td>\n",
       "      <td>5.984630</td>\n",
       "      <td>16.208450</td>\n",
       "      <td>0.989796</td>\n",
       "      <td>363.828296</td>\n",
       "    </tr>\n",
       "    <tr>\n",
       "      <th>구로구</th>\n",
       "      <td>1884</td>\n",
       "      <td>70.663199</td>\n",
       "      <td>440305</td>\n",
       "      <td>407235</td>\n",
       "      <td>33070</td>\n",
       "      <td>60564</td>\n",
       "      <td>7.510703</td>\n",
       "      <td>13.755011</td>\n",
       "      <td>0.427885</td>\n",
       "      <td>328.874565</td>\n",
       "    </tr>\n",
       "    <tr>\n",
       "      <th>성북구</th>\n",
       "      <td>1651</td>\n",
       "      <td>69.933335</td>\n",
       "      <td>451829</td>\n",
       "      <td>440272</td>\n",
       "      <td>11557</td>\n",
       "      <td>67132</td>\n",
       "      <td>2.557826</td>\n",
       "      <td>14.857833</td>\n",
       "      <td>0.365404</td>\n",
       "      <td>83.383719</td>\n",
       "    </tr>\n",
       "    <tr>\n",
       "      <th>금천구</th>\n",
       "      <td>1348</td>\n",
       "      <td>114.836795</td>\n",
       "      <td>252752</td>\n",
       "      <td>233263</td>\n",
       "      <td>19489</td>\n",
       "      <td>34945</td>\n",
       "      <td>7.710720</td>\n",
       "      <td>13.825806</td>\n",
       "      <td>0.533329</td>\n",
       "      <td>-3.837022</td>\n",
       "    </tr>\n",
       "    <tr>\n",
       "      <th>성동구</th>\n",
       "      <td>1327</td>\n",
       "      <td>92.983674</td>\n",
       "      <td>316068</td>\n",
       "      <td>308066</td>\n",
       "      <td>8002</td>\n",
       "      <td>42171</td>\n",
       "      <td>2.531734</td>\n",
       "      <td>13.342382</td>\n",
       "      <td>0.419846</td>\n",
       "      <td>-93.465139</td>\n",
       "    </tr>\n",
       "    <tr>\n",
       "      <th>노원구</th>\n",
       "      <td>1566</td>\n",
       "      <td>223.787802</td>\n",
       "      <td>553177</td>\n",
       "      <td>549365</td>\n",
       "      <td>3812</td>\n",
       "      <td>75741</td>\n",
       "      <td>0.689110</td>\n",
       "      <td>13.692001</td>\n",
       "      <td>0.283092</td>\n",
       "      <td>-111.467224</td>\n",
       "    </tr>\n",
       "    <tr>\n",
       "      <th>서대문구</th>\n",
       "      <td>1254</td>\n",
       "      <td>54.333910</td>\n",
       "      <td>323261</td>\n",
       "      <td>311280</td>\n",
       "      <td>11981</td>\n",
       "      <td>49935</td>\n",
       "      <td>3.706293</td>\n",
       "      <td>15.447270</td>\n",
       "      <td>0.387922</td>\n",
       "      <td>-174.261621</td>\n",
       "    </tr>\n",
       "    <tr>\n",
       "      <th>중구</th>\n",
       "      <td>1023</td>\n",
       "      <td>183.462411</td>\n",
       "      <td>135427</td>\n",
       "      <td>126032</td>\n",
       "      <td>9395</td>\n",
       "      <td>21798</td>\n",
       "      <td>6.937317</td>\n",
       "      <td>16.095756</td>\n",
       "      <td>0.755389</td>\n",
       "      <td>-201.668633</td>\n",
       "    </tr>\n",
       "    <tr>\n",
       "      <th>동작구</th>\n",
       "      <td>1302</td>\n",
       "      <td>164.951881</td>\n",
       "      <td>407275</td>\n",
       "      <td>394788</td>\n",
       "      <td>12487</td>\n",
       "      <td>58133</td>\n",
       "      <td>3.065987</td>\n",
       "      <td>14.273648</td>\n",
       "      <td>0.319686</td>\n",
       "      <td>-217.324268</td>\n",
       "    </tr>\n",
       "    <tr>\n",
       "      <th>영등포구</th>\n",
       "      <td>1277</td>\n",
       "      <td>189.894909</td>\n",
       "      <td>404501</td>\n",
       "      <td>369003</td>\n",
       "      <td>35498</td>\n",
       "      <td>54994</td>\n",
       "      <td>8.775751</td>\n",
       "      <td>13.595516</td>\n",
       "      <td>0.315698</td>\n",
       "      <td>-239.317533</td>\n",
       "    </tr>\n",
       "    <tr>\n",
       "      <th>마포구</th>\n",
       "      <td>980</td>\n",
       "      <td>279.650290</td>\n",
       "      <td>385507</td>\n",
       "      <td>374691</td>\n",
       "      <td>10816</td>\n",
       "      <td>50350</td>\n",
       "      <td>2.805656</td>\n",
       "      <td>13.060723</td>\n",
       "      <td>0.254211</td>\n",
       "      <td>-515.729966</td>\n",
       "    </tr>\n",
       "    <tr>\n",
       "      <th>강동구</th>\n",
       "      <td>1010</td>\n",
       "      <td>210.419727</td>\n",
       "      <td>437050</td>\n",
       "      <td>432749</td>\n",
       "      <td>4301</td>\n",
       "      <td>57680</td>\n",
       "      <td>0.984098</td>\n",
       "      <td>13.197575</td>\n",
       "      <td>0.231095</td>\n",
       "      <td>-541.597345</td>\n",
       "    </tr>\n",
       "    <tr>\n",
       "      <th>강북구</th>\n",
       "      <td>831</td>\n",
       "      <td>159.133673</td>\n",
       "      <td>326063</td>\n",
       "      <td>322385</td>\n",
       "      <td>3678</td>\n",
       "      <td>57401</td>\n",
       "      <td>1.128003</td>\n",
       "      <td>17.604267</td>\n",
       "      <td>0.254859</td>\n",
       "      <td>-600.298704</td>\n",
       "    </tr>\n",
       "    <tr>\n",
       "      <th>광진구</th>\n",
       "      <td>878</td>\n",
       "      <td>62.518084</td>\n",
       "      <td>370519</td>\n",
       "      <td>355748</td>\n",
       "      <td>14771</td>\n",
       "      <td>44806</td>\n",
       "      <td>3.986570</td>\n",
       "      <td>12.092767</td>\n",
       "      <td>0.236965</td>\n",
       "      <td>-601.484495</td>\n",
       "    </tr>\n",
       "    <tr>\n",
       "      <th>중랑구</th>\n",
       "      <td>916</td>\n",
       "      <td>95.670080</td>\n",
       "      <td>410296</td>\n",
       "      <td>405551</td>\n",
       "      <td>4745</td>\n",
       "      <td>60618</td>\n",
       "      <td>1.156482</td>\n",
       "      <td>14.774212</td>\n",
       "      <td>0.223253</td>\n",
       "      <td>-606.598725</td>\n",
       "    </tr>\n",
       "    <tr>\n",
       "      <th>도봉구</th>\n",
       "      <td>825</td>\n",
       "      <td>350.268343</td>\n",
       "      <td>344096</td>\n",
       "      <td>341928</td>\n",
       "      <td>2168</td>\n",
       "      <td>54969</td>\n",
       "      <td>0.630057</td>\n",
       "      <td>15.974902</td>\n",
       "      <td>0.239759</td>\n",
       "      <td>-625.844646</td>\n",
       "    </tr>\n",
       "    <tr>\n",
       "      <th>송파구</th>\n",
       "      <td>1081</td>\n",
       "      <td>124.073313</td>\n",
       "      <td>673161</td>\n",
       "      <td>666439</td>\n",
       "      <td>6722</td>\n",
       "      <td>79093</td>\n",
       "      <td>0.998572</td>\n",
       "      <td>11.749492</td>\n",
       "      <td>0.160586</td>\n",
       "      <td>-726.517700</td>\n",
       "    </tr>\n",
       "    <tr>\n",
       "      <th>강서구</th>\n",
       "      <td>911</td>\n",
       "      <td>169.534488</td>\n",
       "      <td>606981</td>\n",
       "      <td>600257</td>\n",
       "      <td>6724</td>\n",
       "      <td>78042</td>\n",
       "      <td>1.107778</td>\n",
       "      <td>12.857404</td>\n",
       "      <td>0.150087</td>\n",
       "      <td>-824.785298</td>\n",
       "    </tr>\n",
       "  </tbody>\n",
       "</table>\n",
       "</div>"
      ],
      "text/plain": [
       "        소계       최근증가율      인구     한국인    외국인    고령자     외국인비율      고령자비율  \\\n",
       "자치구                                                                         \n",
       "강남구   3238  162.277027  551888  546952   4936  66011  0.894384  11.960941   \n",
       "양천구   2482   36.552997  471026  467151   3875  56742  0.822672  12.046469   \n",
       "용산구   2096   57.106460  245245  229677  15568  37331  6.347938  15.221921   \n",
       "서초구   2297   67.878468  443989  439844   4145  54614  0.933582  12.300755   \n",
       "은평구   2108   92.727351  489045  484642   4403  76097  0.900326  15.560327   \n",
       "관악구   2109  166.937444  521960  504048  17912  71317  3.431681  13.663308   \n",
       "동대문구  1870   81.753865  364527  348903  15624  56675  4.286102  15.547545   \n",
       "종로구   1619  302.569486  163569  153780   9789  26512  5.984630  16.208450   \n",
       "구로구   1884   70.663199  440305  407235  33070  60564  7.510703  13.755011   \n",
       "성북구   1651   69.933335  451829  440272  11557  67132  2.557826  14.857833   \n",
       "금천구   1348  114.836795  252752  233263  19489  34945  7.710720  13.825806   \n",
       "성동구   1327   92.983674  316068  308066   8002  42171  2.531734  13.342382   \n",
       "노원구   1566  223.787802  553177  549365   3812  75741  0.689110  13.692001   \n",
       "서대문구  1254   54.333910  323261  311280  11981  49935  3.706293  15.447270   \n",
       "중구    1023  183.462411  135427  126032   9395  21798  6.937317  16.095756   \n",
       "동작구   1302  164.951881  407275  394788  12487  58133  3.065987  14.273648   \n",
       "영등포구  1277  189.894909  404501  369003  35498  54994  8.775751  13.595516   \n",
       "마포구    980  279.650290  385507  374691  10816  50350  2.805656  13.060723   \n",
       "강동구   1010  210.419727  437050  432749   4301  57680  0.984098  13.197575   \n",
       "강북구    831  159.133673  326063  322385   3678  57401  1.128003  17.604267   \n",
       "광진구    878   62.518084  370519  355748  14771  44806  3.986570  12.092767   \n",
       "중랑구    916   95.670080  410296  405551   4745  60618  1.156482  14.774212   \n",
       "도봉구    825  350.268343  344096  341928   2168  54969  0.630057  15.974902   \n",
       "송파구   1081  124.073313  673161  666439   6722  79093  0.998572  11.749492   \n",
       "강서구    911  169.534488  606981  600257   6724  78042  1.107778  12.857404   \n",
       "\n",
       "        CCTV비율           오차  \n",
       "자치구                          \n",
       "강남구   0.586713  1561.929921  \n",
       "양천구   0.526935   893.576120  \n",
       "용산구   0.854656   752.299803  \n",
       "서초구   0.517355   737.881483  \n",
       "은평구   0.431044   500.045353  \n",
       "관악구   0.404054   465.368835  \n",
       "동대문구  0.512994   397.010225  \n",
       "종로구   0.989796   363.828296  \n",
       "구로구   0.427885   328.874565  \n",
       "성북구   0.365404    83.383719  \n",
       "금천구   0.533329    -3.837022  \n",
       "성동구   0.419846   -93.465139  \n",
       "노원구   0.283092  -111.467224  \n",
       "서대문구  0.387922  -174.261621  \n",
       "중구    0.755389  -201.668633  \n",
       "동작구   0.319686  -217.324268  \n",
       "영등포구  0.315698  -239.317533  \n",
       "마포구   0.254211  -515.729966  \n",
       "강동구   0.231095  -541.597345  \n",
       "강북구   0.254859  -600.298704  \n",
       "광진구   0.236965  -601.484495  \n",
       "중랑구   0.223253  -606.598725  \n",
       "도봉구   0.239759  -625.844646  \n",
       "송파구   0.160586  -726.517700  \n",
       "강서구   0.150087  -824.785298  "
      ]
     },
     "execution_count": 239,
     "metadata": {},
     "output_type": "execute_result"
    }
   ],
   "source": [
    "# 오차율 계산 = 절대값(  소계 - f1( 인구수) )\n",
    "data_result['오차'] = np.abs(data_result['소계']) - f1(data_result['인구'])\n",
    "df_sort = data_result.sort_values(by='오차', ascending=False)\n",
    "df_sort"
   ]
  },
  {
   "cell_type": "code",
   "execution_count": 263,
   "metadata": {},
   "outputs": [
    {
     "data": {
      "image/png": "[encoded data removed]",
      "text/plain": [
       "<Figure size 432x288 with 2 Axes>"
      ]
     },
     "metadata": {
      "needs_background": "light"
     },
     "output_type": "display_data"
    }
   ],
   "source": [
    "plt.scatter(data_result['인구'], data_result['소계'], c=data_result['오차'], s=50)\n",
    "plt.plot(x, f1(x), ls='dashed', lw=3, color='g')\n",
    "for n in range(5):\n",
    "    plt.text( df_sort['인구'][n]*1.03, df_sort['소계'][n]*0.98 ,\n",
    "            df_sort.index[n], fontSize=10)\n",
    "plt.xlabel('인구수')\n",
    "plt.ylabel('CCTV')\n",
    "plt.grid()\n",
    "plt.colorbar()\n",
    "plt.show()"
   ]
  },
  {
   "cell_type": "code",
   "execution_count": 256,
   "metadata": {},
   "outputs": [],
   "source": [
    "# 결과 저장\n",
    "data_result.to_csv('./cctv_result.csv', sep=',', encoding='utf-8')"
   ]
  },
  {
   "cell_type": "markdown",
   "metadata": {},
   "source": []
  },
  {
   "cell_type": "code",
   "execution_count": null,
   "metadata": {},
   "outputs": [],
   "source": []
  },
  {
   "cell_type": "code",
   "execution_count": null,
   "metadata": {},
   "outputs": [],
   "source": []
  }
 ],
 "metadata": {
  "kernelspec": {
   "display_name": "Python 3",
   "language": "python",
   "name": "python3"
  },
  "language_info": {
   "codemirror_mode": {
    "name": "ipython",
    "version": 3
   },
   "file_extension": ".py",
   "mimetype": "text/x-python",
   "name": "python",
   "nbconvert_exporter": "python",
   "pygments_lexer": "ipython3",
   "version": "3.7.3"
  }
 },
 "nbformat": 4,
 "nbformat_minor": 4
}
