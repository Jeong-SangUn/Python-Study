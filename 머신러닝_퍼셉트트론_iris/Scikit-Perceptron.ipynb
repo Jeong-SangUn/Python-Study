{
 "cells": [
  {
   "cell_type": "code",
   "execution_count": 19,
   "metadata": {},
   "outputs": [],
   "source": [
    "# 학습용 데이터\n",
    "from sklearn import datasets\n",
    "# 데이터를 학습용과 테스트용으로 나눌수 있는 함수\n",
    "from sklearn.model_selection import train_test_split\n",
    "# 데이터 표준화\n",
    "from sklearn.preprocessing import StandardScaler\n",
    "# Perceptron 머신러닝을 위한 클래스\n",
    "from sklearn.linear_model import Perceptron\n",
    "# 정확도 계산을 위한 함수\n",
    "from sklearn.metrics import accuracy_score\n",
    "# 파일 저장을 위해..\n",
    "import pickle\n",
    "import numpy as np\n",
    "import pandas as pd\n",
    "\n",
    "# from mylib.plotdregion import plot_decision_region\n",
    "\n",
    "names = None"
   ]
  },
  {
   "cell_type": "code",
   "execution_count": 161,
   "metadata": {},
   "outputs": [],
   "source": [
    "def step1_get_data() :\n",
    "    # 아이리스 데이터 추출\n",
    "    iris = datasets.load_iris()\n",
    "    iris_ = pd.read_csv('./iris.data', header = None)\n",
    "    # 꽃 정보 데이터 추출\n",
    "    X = iris.data[:100, [2, 3]] # 꽃잎 정보\n",
    "    y = iris.target[:100]       # 꽂 종류\n",
    "    names = iris.target_names[:2]   # 꽃 이름\n",
    "    return X, y"
   ]
  },
  {
   "cell_type": "code",
   "execution_count": 166,
   "metadata": {},
   "outputs": [],
   "source": [
    "def step1_get_data2() :\n",
    "    # 아이리스 데이터 추출\n",
    "    url = \"http://archive.ics.uci.edu/ml/machine-learning-databases/iris/iris.data\"\n",
    "    iris = pd.read_csv(url, header = None)\n",
    "    iris[\"code\"] = iris[4].map({\"Iris-setosa\":0, \"Iris-versicolor\":1, \"Iris-virginica\":2})\n",
    "    # 꽃 정보 데이터 추출\n",
    "    X = iris[[2,3]][:100].values # 꽃잎 정보\n",
    "    y = iris[\"code\"][:100].to_numpy()       # 꽂 종류\n",
    "    names = iris[4][:100].to_numpy()   # 꽃 이름\n",
    "    print(X[:5], y[:5], names[:5])\n",
    "    return X, y"
   ]
  },
  {
   "cell_type": "code",
   "execution_count": 167,
   "metadata": {},
   "outputs": [],
   "source": [
    "def step2_learnig() :\n",
    "    X, y = step1_get_data()\n",
    "    # 학습 데이터와 테스트 데이터로 나눈다.\n",
    "    X_train, X_test, y_train, y_test = train_test_split(X, y, test_size=0.3, random_state=0)\n",
    "    # 표준화 작업 : 데이터들을 표준 정규분포로 변환하여\n",
    "    # 적은 학습횟수와 높은 학습 정확도를 갖기위해 하는 작업\n",
    "    sc = StandardScaler()\n",
    "    # 데이터를 표준화한다.\n",
    "    sc.fit(X_train)\n",
    "    X_train_std = sc.transform(X_train)\n",
    "    # 학습한다.\n",
    "    ml = Perceptron(eta0=0.01, max_iter=40, random_state=0)\n",
    "    ml.fit(X_train_std, y_train)\n",
    "    # 학습 정확도를 확인해본다.\n",
    "    X_test_std = sc.transform(X_test)\n",
    "    y_pred = ml.predict(X_test_std)\n",
    "    print(\"학습 정확도 :\", accuracy_score(y_test, y_pred))\n",
    "    # 학습이 완료된 객체를 저정한다.\n",
    "    with open('./ml.dat', 'wb') as fp :\n",
    "        pickle.dump(sc, fp)\n",
    "        pickle.dump(ml, fp)\n",
    "\n",
    "    print(\"학습 완료\")\n",
    "\n",
    "    # 시각화를 위한 작업\n",
    "#     X_combined_std = np.vstack((X_train_std, X_test_std))\n",
    "#     y_combined_std = np.hstack((y_train, y_test))\n",
    "#     plot_decision_region(X=X_combined_std, y=y_combined_std, classifier=ml, test_idx=range(70, 100), title='perceptron')\n"
   ]
  },
  {
   "cell_type": "code",
   "execution_count": 168,
   "metadata": {},
   "outputs": [],
   "source": [
    "def step3_using() :\n",
    "    # 학습이 완료된 객체를 복원한다.\n",
    "    with open('./ml.dat', 'rb') as fp :\n",
    "        sc = pickle.load(fp)\n",
    "        ml = pickle.load(fp)\n",
    "\n",
    "    while True:\n",
    "        a1 = input(\"꽃 잎의 너비를 입력해주세요 :\")\n",
    "        a2 = input(\"꽃 잎의 길이를 입력해주세요 :\")\n",
    "        if a1 == \"q\":\n",
    "            break\n",
    "        X = np.array([[float(a1), float(a2)]])\n",
    "        X_std = sc.transform(X)\n",
    "        # 데이터를 입력해 결과를 가져온다.\n",
    "        y = ml.predict(X_std)\n",
    "        # print(y)\n",
    "        if y[0] == 0 :\n",
    "            print('Iris-setosa')\n",
    "        else :\n",
    "            print('Iris-versicolor')"
   ]
  },
  {
   "cell_type": "code",
   "execution_count": 169,
   "metadata": {},
   "outputs": [
    {
     "name": "stdout",
     "output_type": "stream",
     "text": [
      "[[1.4 0.2]\n",
      " [1.4 0.2]\n",
      " [1.3 0.2]\n",
      " [1.5 0.2]\n",
      " [1.4 0.2]] [0 0 0 0 0] ['Iris-setosa' 'Iris-setosa' 'Iris-setosa' 'Iris-setosa' 'Iris-setosa']\n"
     ]
    }
   ],
   "source": [
    "tmp_x, tmp_y = step1_get_data2()"
   ]
  },
  {
   "cell_type": "code",
   "execution_count": 170,
   "metadata": {},
   "outputs": [
    {
     "data": {
      "text/plain": [
       "(array([[1.4, 0.2],\n",
       "        [1.4, 0.2],\n",
       "        [1.3, 0.2],\n",
       "        [1.5, 0.2],\n",
       "        [1.4, 0.2]]), array([0, 0, 0, 0, 0], dtype=int64))"
      ]
     },
     "execution_count": 170,
     "metadata": {},
     "output_type": "execute_result"
    }
   ],
   "source": [
    "tmp_x[:5], tmp_y[:5]"
   ]
  },
  {
   "cell_type": "code",
   "execution_count": 171,
   "metadata": {},
   "outputs": [
    {
     "data": {
      "text/plain": [
       "(array([[4.2, 1.2],\n",
       "        [4.2, 1.3],\n",
       "        [4.3, 1.3],\n",
       "        [3. , 1.1],\n",
       "        [4.1, 1.3]]), array([1, 1, 1, 1, 1], dtype=int64))"
      ]
     },
     "execution_count": 171,
     "metadata": {},
     "output_type": "execute_result"
    }
   ],
   "source": [
    "tmp_x[-5:], tmp_y[-5:]"
   ]
  },
  {
   "cell_type": "code",
   "execution_count": 172,
   "metadata": {},
   "outputs": [
    {
     "name": "stdout",
     "output_type": "stream",
     "text": [
      "학습 정확도 : 1.0\n",
      "학습 완료\n"
     ]
    }
   ],
   "source": [
    "step2_learnig()"
   ]
  },
  {
   "cell_type": "code",
   "execution_count": 173,
   "metadata": {},
   "outputs": [
    {
     "name": "stdin",
     "output_type": "stream",
     "text": [
      "꽃 잎의 너비를 입력해주세요 : 1.4\n",
      "꽃 잎의 길이를 입력해주세요 : 0.4\n"
     ]
    },
    {
     "name": "stdout",
     "output_type": "stream",
     "text": [
      "Iris-setosa\n"
     ]
    },
    {
     "name": "stdin",
     "output_type": "stream",
     "text": [
      "꽃 잎의 너비를 입력해주세요 : ㅂ\n",
      "꽃 잎의 길이를 입력해주세요 : ㅂ\n"
     ]
    },
    {
     "ename": "ValueError",
     "evalue": "could not convert string to float: 'ㅂ'",
     "output_type": "error",
     "traceback": [
      "\u001b[1;31m---------------------------------------------------------------------------\u001b[0m",
      "\u001b[1;31mValueError\u001b[0m                                Traceback (most recent call last)",
      "\u001b[1;32m<ipython-input-173-8597f641c37d>\u001b[0m in \u001b[0;36m<module>\u001b[1;34m\u001b[0m\n\u001b[1;32m----> 1\u001b[1;33m \u001b[0mstep3_using\u001b[0m\u001b[1;33m(\u001b[0m\u001b[1;33m)\u001b[0m\u001b[1;33m\u001b[0m\u001b[1;33m\u001b[0m\u001b[0m\n\u001b[0m",
      "\u001b[1;32m<ipython-input-168-5309197e6282>\u001b[0m in \u001b[0;36mstep3_using\u001b[1;34m()\u001b[0m\n\u001b[0;32m     10\u001b[0m         \u001b[1;32mif\u001b[0m \u001b[0ma1\u001b[0m \u001b[1;33m==\u001b[0m \u001b[1;34m\"q\"\u001b[0m\u001b[1;33m:\u001b[0m\u001b[1;33m\u001b[0m\u001b[1;33m\u001b[0m\u001b[0m\n\u001b[0;32m     11\u001b[0m             \u001b[1;32mbreak\u001b[0m\u001b[1;33m\u001b[0m\u001b[1;33m\u001b[0m\u001b[0m\n\u001b[1;32m---> 12\u001b[1;33m         \u001b[0mX\u001b[0m \u001b[1;33m=\u001b[0m \u001b[0mnp\u001b[0m\u001b[1;33m.\u001b[0m\u001b[0marray\u001b[0m\u001b[1;33m(\u001b[0m\u001b[1;33m[\u001b[0m\u001b[1;33m[\u001b[0m\u001b[0mfloat\u001b[0m\u001b[1;33m(\u001b[0m\u001b[0ma1\u001b[0m\u001b[1;33m)\u001b[0m\u001b[1;33m,\u001b[0m \u001b[0mfloat\u001b[0m\u001b[1;33m(\u001b[0m\u001b[0ma2\u001b[0m\u001b[1;33m)\u001b[0m\u001b[1;33m]\u001b[0m\u001b[1;33m]\u001b[0m\u001b[1;33m)\u001b[0m\u001b[1;33m\u001b[0m\u001b[1;33m\u001b[0m\u001b[0m\n\u001b[0m\u001b[0;32m     13\u001b[0m         \u001b[0mX_std\u001b[0m \u001b[1;33m=\u001b[0m \u001b[0msc\u001b[0m\u001b[1;33m.\u001b[0m\u001b[0mtransform\u001b[0m\u001b[1;33m(\u001b[0m\u001b[0mX\u001b[0m\u001b[1;33m)\u001b[0m\u001b[1;33m\u001b[0m\u001b[1;33m\u001b[0m\u001b[0m\n\u001b[0;32m     14\u001b[0m         \u001b[1;31m# 데이터를 입력해 결과를 가져온다.\u001b[0m\u001b[1;33m\u001b[0m\u001b[1;33m\u001b[0m\u001b[1;33m\u001b[0m\u001b[0m\n",
      "\u001b[1;31mValueError\u001b[0m: could not convert string to float: 'ㅂ'"
     ]
    }
   ],
   "source": [
    "step3_using()"
   ]
  },
  {
   "cell_type": "code",
   "execution_count": null,
   "metadata": {},
   "outputs": [],
   "source": []
  }
 ],
 "metadata": {
  "kernelspec": {
   "display_name": "Python 3",
   "language": "python",
   "name": "python3"
  },
  "language_info": {
   "codemirror_mode": {
    "name": "ipython",
    "version": 3
   },
   "file_extension": ".py",
   "mimetype": "text/x-python",
   "name": "python",
   "nbconvert_exporter": "python",
   "pygments_lexer": "ipython3",
   "version": "3.7.3"
  }
 },
 "nbformat": 4,
 "nbformat_minor": 4
}
